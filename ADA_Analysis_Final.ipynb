{
 "cells": [
  {
   "cell_type": "markdown",
   "metadata": {},
   "source": [
    "## Loading Libraries"
   ]
  },
  {
   "cell_type": "code",
   "execution_count": null,
   "metadata": {},
   "outputs": [],
   "source": [
    "require(tm)\n",
    "require(SnowballC)\n",
    "require(RWeka)"
   ]
  },
  {
   "cell_type": "markdown",
   "metadata": {},
   "source": [
    "## Read datasets"
   ]
  },
  {
   "cell_type": "code",
   "execution_count": null,
   "metadata": {},
   "outputs": [],
   "source": [
    "# reading the data\n",
    "read_data <- function(file_name.txt) {\n",
    "\n",
    "    # Read the data\n",
    "    docs = readLines(file_name.txt)\n",
    "    docs = strsplit(docs, '\\n')\n",
    "    \n",
    "    ids = c()\n",
    "    texts = c()\n",
    "    for(line in docs){\n",
    "        if(length(line)>0){\n",
    "\n",
    "            if(grepl('ID tr_doc|ID te_doc', line)){\n",
    "                id = grep('ID tr_doc|ID te_doc', line, value = TRUE)\n",
    "                id_val = strsplit(id, ' ')[[1]][2]\n",
    "                ids = c(ids, id_val)\n",
    "            }\n",
    "            else if(grepl('^TEXT',line)){\n",
    "                text = grep('TEXT ', line, value = TRUE)\n",
    "                text_val = sub(\"^\\\\w+\\\\s+\", \"\", text)\n",
    "                texts = c(texts, text_val)\n",
    "            }   \n",
    "        }    \n",
    "    }\n",
    "    docs <- data.frame(\"doc_id\"= ids,\"text\"=texts)\n",
    "    docs$text <- as.character(docs$text)\n",
    "    return(docs)\n",
    "    }"
   ]
  },
  {
   "cell_type": "code",
   "execution_count": null,
   "metadata": {},
   "outputs": [],
   "source": [
    "# preprocessing the data\n",
    "pre_processing <- function(docs, ngram_min = 1, ngram_max = 1) {\n",
    "#     texts <- data.frame(unlist(docs$texts))\n",
    "    ids <- docs$doc_id\n",
    "    # create a corpus\n",
    "    docs <- DataframeSource(docs)\n",
    "    corp <- Corpus(docs)\n",
    "    ndocs <- length(corp)\n",
    "    minDocFreq <- ndocs * 0.05\n",
    "    maxDocFreq <- ndocs * 0.95\n",
    "    # Preprocessing:\n",
    "    corp <- tm_map(corp,tolower) # converting all words into lower case\n",
    "    corp <- tm_map(corp, removeWords, stopwords(\"english\")) # remove stop words (the most common word in a language that can be find in any document)\n",
    "    corp <- tm_map(corp, removePunctuation) # remove pnctuation\n",
    "    corp <- tm_map(corp, stemDocument) # perform stemming (reducing inflected and derived words to their root form)\n",
    "    corp <- tm_map(corp, removeNumbers) # remove all numbers\n",
    "    corp <- tm_map(corp, stripWhitespace) # remove redundant spaces \n",
    "    corp <- tm_map(corp, PlainTextDocument)\n",
    "    \n",
    "    BigramTokenizer <- function(x) NGramTokenizer(x, Weka_control(min = ngram_min, max = ngram_max))\n",
    "    # Create a matrix which its rows are the documents and colomns are the words. \n",
    "    dtm <- DocumentTermMatrix(corp, control = list(weighting = weightTfIdf, tokenize = BigramTokenizer,bounds = list(global = c(minDocFreq, maxDocFreq))))\n",
    "    ## reduce the sparcity of out dtm\n",
    "#     dtm <- removeSparseTerms(dtm,0.95)\n",
    "    ## convert dtm to a matrix\n",
    "    word.doc.mat <- t(as.matrix(dtm))\n",
    "    colnames(word.doc.mat) <- ids\n",
    "    word.doc.mat = as.data.frame(t(word.doc.mat))\n",
    "    word.doc.mat['Doc_id'] = rownames(word.doc.mat)\n",
    "    \n",
    "    # Return the result\n",
    "    return (word.doc.mat)\n",
    "    }"
   ]
  },
  {
   "cell_type": "code",
   "execution_count": null,
   "metadata": {},
   "outputs": [],
   "source": [
    "docs_train = read_data('training_docs.txt')\n",
    "docs_test = read_data('testing_docs.txt')\n",
    "docs_train_labels = readLines('training_labels_final.txt')"
   ]
  },
  {
   "cell_type": "code",
   "execution_count": null,
   "metadata": {},
   "outputs": [],
   "source": [
    "dim(docs_train)\n",
    "dim(docs_test)"
   ]
  },
  {
   "cell_type": "code",
   "execution_count": null,
   "metadata": {},
   "outputs": [],
   "source": [
    "docs_combine = rbind(docs_train,docs_test)\n",
    "dim(docs_combine)"
   ]
  },
  {
   "cell_type": "code",
   "execution_count": null,
   "metadata": {},
   "outputs": [],
   "source": [
    "head(docs_combine)"
   ]
  },
  {
   "cell_type": "code",
   "execution_count": 64,
   "metadata": {},
   "outputs": [],
   "source": [
    "options(warn=-1)\n",
    "docs_final = pre_processing(docs_combine,ngram_min = 1, ngram_max = 1)"
   ]
  },
  {
   "cell_type": "code",
   "execution_count": 65,
   "metadata": {},
   "outputs": [],
   "source": [
    "options(warn=-1)\n",
    "docs_final_bigrams = pre_processing(docs_combine,ngram_min = 2, ngram_max = 2)"
   ]
  },
  {
   "cell_type": "code",
   "execution_count": 80,
   "metadata": {},
   "outputs": [
    {
     "data": {
      "text/html": [
       "<table>\n",
       "<thead><tr><th></th><th scope=col>abc</th><th scope=col>abl</th><th scope=col>across</th><th scope=col>act</th><th scope=col>action</th><th scope=col>actual</th><th scope=col>affect</th><th scope=col>ago</th><th scope=col>ahead</th><th scope=col>allow</th><th scope=col>...</th><th scope=col>within</th><th scope=col>without</th><th scope=col>won</th><th scope=col>work</th><th scope=col>world</th><th scope=col>year</th><th scope=col>yearold</th><th scope=col>yesterday</th><th scope=col>yet</th><th scope=col>Doc_id</th></tr></thead>\n",
       "<tbody>\n",
       "\t<tr><th scope=row>tr_doc_1</th><td>0         </td><td>0         </td><td>0         </td><td>0.00000000</td><td>0         </td><td>0.0000000 </td><td>0         </td><td>0         </td><td>0         </td><td>0         </td><td>...       </td><td>0         </td><td>0.000000  </td><td>0         </td><td>0.0000000 </td><td>0         </td><td>0         </td><td>0.0000000 </td><td>0.0000000 </td><td>0         </td><td>tr_doc_1  </td></tr>\n",
       "\t<tr><th scope=row>tr_doc_2</th><td>0         </td><td>0         </td><td>0         </td><td>0.33399930</td><td>0         </td><td>0.1708492 </td><td>0         </td><td>0         </td><td>0         </td><td>0         </td><td>...       </td><td>0         </td><td>0.000000  </td><td>0         </td><td>0.0000000 </td><td>0         </td><td>0         </td><td>0.1229600 </td><td>0.0000000 </td><td>0         </td><td>tr_doc_2  </td></tr>\n",
       "\t<tr><th scope=row>tr_doc_3</th><td>0         </td><td>0         </td><td>0         </td><td>0.00000000</td><td>0         </td><td>0.0000000 </td><td>0         </td><td>0         </td><td>0         </td><td>0         </td><td>...       </td><td>0         </td><td>0.000000  </td><td>0         </td><td>0.0000000 </td><td>0         </td><td>0         </td><td>0.1553178 </td><td>0.0000000 </td><td>0         </td><td>tr_doc_3  </td></tr>\n",
       "\t<tr><th scope=row>tr_doc_4</th><td>0         </td><td>0         </td><td>0         </td><td>0.00000000</td><td>0         </td><td>0.0000000 </td><td>0         </td><td>0         </td><td>0         </td><td>0         </td><td>...       </td><td>0         </td><td>0.133985  </td><td>0         </td><td>0.0000000 </td><td>0         </td><td>0         </td><td>0.0000000 </td><td>0.1209514 </td><td>0         </td><td>tr_doc_4  </td></tr>\n",
       "\t<tr><th scope=row>tr_doc_5</th><td>0         </td><td>0         </td><td>0         </td><td>0.00000000</td><td>0         </td><td>0.0000000 </td><td>0         </td><td>0         </td><td>0         </td><td>0         </td><td>...       </td><td>0         </td><td>0.000000  </td><td>0         </td><td>0.0000000 </td><td>0         </td><td>0         </td><td>0.0000000 </td><td>0.0000000 </td><td>0         </td><td>tr_doc_5  </td></tr>\n",
       "\t<tr><th scope=row>tr_doc_6</th><td>0         </td><td>0         </td><td>0         </td><td>0.04356513</td><td>0         </td><td>0.0000000 </td><td>0         </td><td>0         </td><td>0         </td><td>0         </td><td>...       </td><td>0         </td><td>0.000000  </td><td>0         </td><td>0.0268918 </td><td>0         </td><td>0         </td><td>0.0000000 </td><td>0.0000000 </td><td>0         </td><td>tr_doc_6  </td></tr>\n",
       "</tbody>\n",
       "</table>\n"
      ],
      "text/latex": [
       "\\begin{tabular}{r|lllllllllllllllllllllllllllllllllllllllllllllllllllllllllllllllllllllllllllllllllllllllllllllllllllllllllllllllllllllllllllllllllllllllllllllllllllllllllllllllllllllllllllllllllllllllllllllllllllllllllllllllllllllllllllllllllllllllllllllllllllllllllllllllllllllllllllllllllllllllllllllllllllllllllllllllllllllllllllllllllllllllllllllllllllllllllllllllllllll}\n",
       "  & abc & abl & across & act & action & actual & affect & ago & ahead & allow & ... & within & without & won & work & world & year & yearold & yesterday & yet & Doc\\_id\\\\\n",
       "\\hline\n",
       "\ttr\\_doc\\_1 & 0            & 0            & 0            & 0.00000000   & 0            & 0.0000000    & 0            & 0            & 0            & 0            & ...          & 0            & 0.000000     & 0            & 0.0000000    & 0            & 0            & 0.0000000    & 0.0000000    & 0            & tr\\_doc\\_1\\\\\n",
       "\ttr\\_doc\\_2 & 0            & 0            & 0            & 0.33399930   & 0            & 0.1708492    & 0            & 0            & 0            & 0            & ...          & 0            & 0.000000     & 0            & 0.0000000    & 0            & 0            & 0.1229600    & 0.0000000    & 0            & tr\\_doc\\_2\\\\\n",
       "\ttr\\_doc\\_3 & 0            & 0            & 0            & 0.00000000   & 0            & 0.0000000    & 0            & 0            & 0            & 0            & ...          & 0            & 0.000000     & 0            & 0.0000000    & 0            & 0            & 0.1553178    & 0.0000000    & 0            & tr\\_doc\\_3\\\\\n",
       "\ttr\\_doc\\_4 & 0            & 0            & 0            & 0.00000000   & 0            & 0.0000000    & 0            & 0            & 0            & 0            & ...          & 0            & 0.133985     & 0            & 0.0000000    & 0            & 0            & 0.0000000    & 0.1209514    & 0            & tr\\_doc\\_4\\\\\n",
       "\ttr\\_doc\\_5 & 0            & 0            & 0            & 0.00000000   & 0            & 0.0000000    & 0            & 0            & 0            & 0            & ...          & 0            & 0.000000     & 0            & 0.0000000    & 0            & 0            & 0.0000000    & 0.0000000    & 0            & tr\\_doc\\_5\\\\\n",
       "\ttr\\_doc\\_6 & 0            & 0            & 0            & 0.04356513   & 0            & 0.0000000    & 0            & 0            & 0            & 0            & ...          & 0            & 0.000000     & 0            & 0.0268918    & 0            & 0            & 0.0000000    & 0.0000000    & 0            & tr\\_doc\\_6\\\\\n",
       "\\end{tabular}\n"
      ],
      "text/markdown": [
       "\n",
       "| <!--/--> | abc | abl | across | act | action | actual | affect | ago | ahead | allow | ... | within | without | won | work | world | year | yearold | yesterday | yet | Doc_id | \n",
       "|---|---|---|---|---|---|\n",
       "| tr_doc_1 | 0          | 0          | 0          | 0.00000000 | 0          | 0.0000000  | 0          | 0          | 0          | 0          | ...        | 0          | 0.000000   | 0          | 0.0000000  | 0          | 0          | 0.0000000  | 0.0000000  | 0          | tr_doc_1   | \n",
       "| tr_doc_2 | 0          | 0          | 0          | 0.33399930 | 0          | 0.1708492  | 0          | 0          | 0          | 0          | ...        | 0          | 0.000000   | 0          | 0.0000000  | 0          | 0          | 0.1229600  | 0.0000000  | 0          | tr_doc_2   | \n",
       "| tr_doc_3 | 0          | 0          | 0          | 0.00000000 | 0          | 0.0000000  | 0          | 0          | 0          | 0          | ...        | 0          | 0.000000   | 0          | 0.0000000  | 0          | 0          | 0.1553178  | 0.0000000  | 0          | tr_doc_3   | \n",
       "| tr_doc_4 | 0          | 0          | 0          | 0.00000000 | 0          | 0.0000000  | 0          | 0          | 0          | 0          | ...        | 0          | 0.133985   | 0          | 0.0000000  | 0          | 0          | 0.0000000  | 0.1209514  | 0          | tr_doc_4   | \n",
       "| tr_doc_5 | 0          | 0          | 0          | 0.00000000 | 0          | 0.0000000  | 0          | 0          | 0          | 0          | ...        | 0          | 0.000000   | 0          | 0.0000000  | 0          | 0          | 0.0000000  | 0.0000000  | 0          | tr_doc_5   | \n",
       "| tr_doc_6 | 0          | 0          | 0          | 0.04356513 | 0          | 0.0000000  | 0          | 0          | 0          | 0          | ...        | 0          | 0.000000   | 0          | 0.0268918  | 0          | 0          | 0.0000000  | 0.0000000  | 0          | tr_doc_6   | \n",
       "\n",
       "\n"
      ],
      "text/plain": [
       "         abc abl across act        action actual    affect ago ahead allow ...\n",
       "tr_doc_1 0   0   0      0.00000000 0      0.0000000 0      0   0     0     ...\n",
       "tr_doc_2 0   0   0      0.33399930 0      0.1708492 0      0   0     0     ...\n",
       "tr_doc_3 0   0   0      0.00000000 0      0.0000000 0      0   0     0     ...\n",
       "tr_doc_4 0   0   0      0.00000000 0      0.0000000 0      0   0     0     ...\n",
       "tr_doc_5 0   0   0      0.00000000 0      0.0000000 0      0   0     0     ...\n",
       "tr_doc_6 0   0   0      0.04356513 0      0.0000000 0      0   0     0     ...\n",
       "         within without  won work      world year yearold   yesterday yet\n",
       "tr_doc_1 0      0.000000 0   0.0000000 0     0    0.0000000 0.0000000 0  \n",
       "tr_doc_2 0      0.000000 0   0.0000000 0     0    0.1229600 0.0000000 0  \n",
       "tr_doc_3 0      0.000000 0   0.0000000 0     0    0.1553178 0.0000000 0  \n",
       "tr_doc_4 0      0.133985 0   0.0000000 0     0    0.0000000 0.1209514 0  \n",
       "tr_doc_5 0      0.000000 0   0.0000000 0     0    0.0000000 0.0000000 0  \n",
       "tr_doc_6 0      0.000000 0   0.0268918 0     0    0.0000000 0.0000000 0  \n",
       "         Doc_id  \n",
       "tr_doc_1 tr_doc_1\n",
       "tr_doc_2 tr_doc_2\n",
       "tr_doc_3 tr_doc_3\n",
       "tr_doc_4 tr_doc_4\n",
       "tr_doc_5 tr_doc_5\n",
       "tr_doc_6 tr_doc_6"
      ]
     },
     "metadata": {},
     "output_type": "display_data"
    }
   ],
   "source": [
    "head(docs_final)"
   ]
  },
  {
   "cell_type": "code",
   "execution_count": 72,
   "metadata": {},
   "outputs": [
    {
     "data": {
      "text/html": [
       "<table>\n",
       "<thead><tr><th scope=col>Doc_id</th><th scope=col>Class_Label</th></tr></thead>\n",
       "<tbody>\n",
       "\t<tr><td>tr_doc_1 </td><td>C1       </td></tr>\n",
       "\t<tr><td>tr_doc_2 </td><td>C1       </td></tr>\n",
       "\t<tr><td>tr_doc_3 </td><td>C1       </td></tr>\n",
       "\t<tr><td>tr_doc_4 </td><td>C1       </td></tr>\n",
       "\t<tr><td>tr_doc_5 </td><td>C1       </td></tr>\n",
       "\t<tr><td>tr_doc_6 </td><td>C1       </td></tr>\n",
       "\t<tr><td>tr_doc_7 </td><td>C1       </td></tr>\n",
       "\t<tr><td>tr_doc_8 </td><td>C1       </td></tr>\n",
       "\t<tr><td>tr_doc_9 </td><td>C1       </td></tr>\n",
       "\t<tr><td>tr_doc_10</td><td>C1       </td></tr>\n",
       "\t<tr><td>tr_doc_11</td><td>C1       </td></tr>\n",
       "\t<tr><td>tr_doc_12</td><td>C1       </td></tr>\n",
       "\t<tr><td>tr_doc_13</td><td>C1       </td></tr>\n",
       "\t<tr><td>tr_doc_14</td><td>C1       </td></tr>\n",
       "\t<tr><td>tr_doc_15</td><td>C1       </td></tr>\n",
       "\t<tr><td>tr_doc_16</td><td>C1       </td></tr>\n",
       "\t<tr><td>tr_doc_17</td><td>C1       </td></tr>\n",
       "\t<tr><td>tr_doc_18</td><td>C1       </td></tr>\n",
       "\t<tr><td>tr_doc_19</td><td>C1       </td></tr>\n",
       "\t<tr><td>tr_doc_20</td><td>C1       </td></tr>\n",
       "\t<tr><td>tr_doc_21</td><td>C1       </td></tr>\n",
       "\t<tr><td>tr_doc_22</td><td>C1       </td></tr>\n",
       "\t<tr><td>tr_doc_23</td><td>C1       </td></tr>\n",
       "\t<tr><td>tr_doc_24</td><td>C1       </td></tr>\n",
       "\t<tr><td>tr_doc_25</td><td>C1       </td></tr>\n",
       "\t<tr><td>tr_doc_26</td><td>C1       </td></tr>\n",
       "\t<tr><td>tr_doc_27</td><td>C1       </td></tr>\n",
       "\t<tr><td>tr_doc_28</td><td>C1       </td></tr>\n",
       "\t<tr><td>tr_doc_29</td><td>C1       </td></tr>\n",
       "\t<tr><td>tr_doc_30</td><td>C1       </td></tr>\n",
       "\t<tr><td>...</td><td>...</td></tr>\n",
       "\t<tr><td>tr_doc_106416</td><td>C23          </td></tr>\n",
       "\t<tr><td>tr_doc_106417</td><td>C23          </td></tr>\n",
       "\t<tr><td>tr_doc_106418</td><td>C23          </td></tr>\n",
       "\t<tr><td>tr_doc_106419</td><td>C23          </td></tr>\n",
       "\t<tr><td>tr_doc_106420</td><td>C23          </td></tr>\n",
       "\t<tr><td>tr_doc_106421</td><td>C23          </td></tr>\n",
       "\t<tr><td>tr_doc_106422</td><td>C23          </td></tr>\n",
       "\t<tr><td>tr_doc_106423</td><td>C23          </td></tr>\n",
       "\t<tr><td>tr_doc_106424</td><td>C23          </td></tr>\n",
       "\t<tr><td>tr_doc_106425</td><td>C23          </td></tr>\n",
       "\t<tr><td>tr_doc_106426</td><td>C23          </td></tr>\n",
       "\t<tr><td>tr_doc_106427</td><td>C23          </td></tr>\n",
       "\t<tr><td>tr_doc_106428</td><td>C23          </td></tr>\n",
       "\t<tr><td>tr_doc_106429</td><td>C23          </td></tr>\n",
       "\t<tr><td>tr_doc_106430</td><td>C23          </td></tr>\n",
       "\t<tr><td>tr_doc_106431</td><td>C23          </td></tr>\n",
       "\t<tr><td>tr_doc_106432</td><td>C23          </td></tr>\n",
       "\t<tr><td>tr_doc_106433</td><td>C23          </td></tr>\n",
       "\t<tr><td>tr_doc_106434</td><td>C23          </td></tr>\n",
       "\t<tr><td>tr_doc_106435</td><td>C23          </td></tr>\n",
       "\t<tr><td>tr_doc_106436</td><td>C23          </td></tr>\n",
       "\t<tr><td>tr_doc_106437</td><td>C23          </td></tr>\n",
       "\t<tr><td>tr_doc_106438</td><td>C23          </td></tr>\n",
       "\t<tr><td>tr_doc_106439</td><td>C23          </td></tr>\n",
       "\t<tr><td>tr_doc_106440</td><td>C23          </td></tr>\n",
       "\t<tr><td>tr_doc_106441</td><td>C23          </td></tr>\n",
       "\t<tr><td>tr_doc_106442</td><td>C23          </td></tr>\n",
       "\t<tr><td>tr_doc_106443</td><td>C23          </td></tr>\n",
       "\t<tr><td>tr_doc_106444</td><td>C23          </td></tr>\n",
       "\t<tr><td>tr_doc_106445</td><td>C23          </td></tr>\n",
       "</tbody>\n",
       "</table>\n"
      ],
      "text/latex": [
       "\\begin{tabular}{r|ll}\n",
       " Doc\\_id & Class\\_Label\\\\\n",
       "\\hline\n",
       "\t tr\\_doc\\_1  & C1           \\\\\n",
       "\t tr\\_doc\\_2  & C1           \\\\\n",
       "\t tr\\_doc\\_3  & C1           \\\\\n",
       "\t tr\\_doc\\_4  & C1           \\\\\n",
       "\t tr\\_doc\\_5  & C1           \\\\\n",
       "\t tr\\_doc\\_6  & C1           \\\\\n",
       "\t tr\\_doc\\_7  & C1           \\\\\n",
       "\t tr\\_doc\\_8  & C1           \\\\\n",
       "\t tr\\_doc\\_9  & C1           \\\\\n",
       "\t tr\\_doc\\_10 & C1           \\\\\n",
       "\t tr\\_doc\\_11 & C1           \\\\\n",
       "\t tr\\_doc\\_12 & C1           \\\\\n",
       "\t tr\\_doc\\_13 & C1           \\\\\n",
       "\t tr\\_doc\\_14 & C1           \\\\\n",
       "\t tr\\_doc\\_15 & C1           \\\\\n",
       "\t tr\\_doc\\_16 & C1           \\\\\n",
       "\t tr\\_doc\\_17 & C1           \\\\\n",
       "\t tr\\_doc\\_18 & C1           \\\\\n",
       "\t tr\\_doc\\_19 & C1           \\\\\n",
       "\t tr\\_doc\\_20 & C1           \\\\\n",
       "\t tr\\_doc\\_21 & C1           \\\\\n",
       "\t tr\\_doc\\_22 & C1           \\\\\n",
       "\t tr\\_doc\\_23 & C1           \\\\\n",
       "\t tr\\_doc\\_24 & C1           \\\\\n",
       "\t tr\\_doc\\_25 & C1           \\\\\n",
       "\t tr\\_doc\\_26 & C1           \\\\\n",
       "\t tr\\_doc\\_27 & C1           \\\\\n",
       "\t tr\\_doc\\_28 & C1           \\\\\n",
       "\t tr\\_doc\\_29 & C1           \\\\\n",
       "\t tr\\_doc\\_30 & C1           \\\\\n",
       "\t ... & ...\\\\\n",
       "\t tr\\_doc\\_106416 & C23              \\\\\n",
       "\t tr\\_doc\\_106417 & C23              \\\\\n",
       "\t tr\\_doc\\_106418 & C23              \\\\\n",
       "\t tr\\_doc\\_106419 & C23              \\\\\n",
       "\t tr\\_doc\\_106420 & C23              \\\\\n",
       "\t tr\\_doc\\_106421 & C23              \\\\\n",
       "\t tr\\_doc\\_106422 & C23              \\\\\n",
       "\t tr\\_doc\\_106423 & C23              \\\\\n",
       "\t tr\\_doc\\_106424 & C23              \\\\\n",
       "\t tr\\_doc\\_106425 & C23              \\\\\n",
       "\t tr\\_doc\\_106426 & C23              \\\\\n",
       "\t tr\\_doc\\_106427 & C23              \\\\\n",
       "\t tr\\_doc\\_106428 & C23              \\\\\n",
       "\t tr\\_doc\\_106429 & C23              \\\\\n",
       "\t tr\\_doc\\_106430 & C23              \\\\\n",
       "\t tr\\_doc\\_106431 & C23              \\\\\n",
       "\t tr\\_doc\\_106432 & C23              \\\\\n",
       "\t tr\\_doc\\_106433 & C23              \\\\\n",
       "\t tr\\_doc\\_106434 & C23              \\\\\n",
       "\t tr\\_doc\\_106435 & C23              \\\\\n",
       "\t tr\\_doc\\_106436 & C23              \\\\\n",
       "\t tr\\_doc\\_106437 & C23              \\\\\n",
       "\t tr\\_doc\\_106438 & C23              \\\\\n",
       "\t tr\\_doc\\_106439 & C23              \\\\\n",
       "\t tr\\_doc\\_106440 & C23              \\\\\n",
       "\t tr\\_doc\\_106441 & C23              \\\\\n",
       "\t tr\\_doc\\_106442 & C23              \\\\\n",
       "\t tr\\_doc\\_106443 & C23              \\\\\n",
       "\t tr\\_doc\\_106444 & C23              \\\\\n",
       "\t tr\\_doc\\_106445 & C23              \\\\\n",
       "\\end{tabular}\n"
      ],
      "text/markdown": [
       "\n",
       "Doc_id | Class_Label | \n",
       "|---|---|---|---|---|---|---|---|---|---|---|---|---|---|---|---|---|---|---|---|---|---|---|---|---|---|---|---|---|---|---|---|---|---|---|---|---|---|---|---|---|---|---|---|---|---|---|---|---|---|---|---|---|---|---|---|---|---|---|---|---|\n",
       "| tr_doc_1  | C1        | \n",
       "| tr_doc_2  | C1        | \n",
       "| tr_doc_3  | C1        | \n",
       "| tr_doc_4  | C1        | \n",
       "| tr_doc_5  | C1        | \n",
       "| tr_doc_6  | C1        | \n",
       "| tr_doc_7  | C1        | \n",
       "| tr_doc_8  | C1        | \n",
       "| tr_doc_9  | C1        | \n",
       "| tr_doc_10 | C1        | \n",
       "| tr_doc_11 | C1        | \n",
       "| tr_doc_12 | C1        | \n",
       "| tr_doc_13 | C1        | \n",
       "| tr_doc_14 | C1        | \n",
       "| tr_doc_15 | C1        | \n",
       "| tr_doc_16 | C1        | \n",
       "| tr_doc_17 | C1        | \n",
       "| tr_doc_18 | C1        | \n",
       "| tr_doc_19 | C1        | \n",
       "| tr_doc_20 | C1        | \n",
       "| tr_doc_21 | C1        | \n",
       "| tr_doc_22 | C1        | \n",
       "| tr_doc_23 | C1        | \n",
       "| tr_doc_24 | C1        | \n",
       "| tr_doc_25 | C1        | \n",
       "| tr_doc_26 | C1        | \n",
       "| tr_doc_27 | C1        | \n",
       "| tr_doc_28 | C1        | \n",
       "| tr_doc_29 | C1        | \n",
       "| tr_doc_30 | C1        | \n",
       "| ... | ... | \n",
       "| tr_doc_106416 | C23           | \n",
       "| tr_doc_106417 | C23           | \n",
       "| tr_doc_106418 | C23           | \n",
       "| tr_doc_106419 | C23           | \n",
       "| tr_doc_106420 | C23           | \n",
       "| tr_doc_106421 | C23           | \n",
       "| tr_doc_106422 | C23           | \n",
       "| tr_doc_106423 | C23           | \n",
       "| tr_doc_106424 | C23           | \n",
       "| tr_doc_106425 | C23           | \n",
       "| tr_doc_106426 | C23           | \n",
       "| tr_doc_106427 | C23           | \n",
       "| tr_doc_106428 | C23           | \n",
       "| tr_doc_106429 | C23           | \n",
       "| tr_doc_106430 | C23           | \n",
       "| tr_doc_106431 | C23           | \n",
       "| tr_doc_106432 | C23           | \n",
       "| tr_doc_106433 | C23           | \n",
       "| tr_doc_106434 | C23           | \n",
       "| tr_doc_106435 | C23           | \n",
       "| tr_doc_106436 | C23           | \n",
       "| tr_doc_106437 | C23           | \n",
       "| tr_doc_106438 | C23           | \n",
       "| tr_doc_106439 | C23           | \n",
       "| tr_doc_106440 | C23           | \n",
       "| tr_doc_106441 | C23           | \n",
       "| tr_doc_106442 | C23           | \n",
       "| tr_doc_106443 | C23           | \n",
       "| tr_doc_106444 | C23           | \n",
       "| tr_doc_106445 | C23           | \n",
       "\n",
       "\n"
      ],
      "text/plain": [
       "       Doc_id        Class_Label\n",
       "1      tr_doc_1      C1         \n",
       "2      tr_doc_2      C1         \n",
       "3      tr_doc_3      C1         \n",
       "4      tr_doc_4      C1         \n",
       "5      tr_doc_5      C1         \n",
       "6      tr_doc_6      C1         \n",
       "7      tr_doc_7      C1         \n",
       "8      tr_doc_8      C1         \n",
       "9      tr_doc_9      C1         \n",
       "10     tr_doc_10     C1         \n",
       "11     tr_doc_11     C1         \n",
       "12     tr_doc_12     C1         \n",
       "13     tr_doc_13     C1         \n",
       "14     tr_doc_14     C1         \n",
       "15     tr_doc_15     C1         \n",
       "16     tr_doc_16     C1         \n",
       "17     tr_doc_17     C1         \n",
       "18     tr_doc_18     C1         \n",
       "19     tr_doc_19     C1         \n",
       "20     tr_doc_20     C1         \n",
       "21     tr_doc_21     C1         \n",
       "22     tr_doc_22     C1         \n",
       "23     tr_doc_23     C1         \n",
       "24     tr_doc_24     C1         \n",
       "25     tr_doc_25     C1         \n",
       "26     tr_doc_26     C1         \n",
       "27     tr_doc_27     C1         \n",
       "28     tr_doc_28     C1         \n",
       "29     tr_doc_29     C1         \n",
       "30     tr_doc_30     C1         \n",
       "...    ...           ...        \n",
       "106416 tr_doc_106416 C23        \n",
       "106417 tr_doc_106417 C23        \n",
       "106418 tr_doc_106418 C23        \n",
       "106419 tr_doc_106419 C23        \n",
       "106420 tr_doc_106420 C23        \n",
       "106421 tr_doc_106421 C23        \n",
       "106422 tr_doc_106422 C23        \n",
       "106423 tr_doc_106423 C23        \n",
       "106424 tr_doc_106424 C23        \n",
       "106425 tr_doc_106425 C23        \n",
       "106426 tr_doc_106426 C23        \n",
       "106427 tr_doc_106427 C23        \n",
       "106428 tr_doc_106428 C23        \n",
       "106429 tr_doc_106429 C23        \n",
       "106430 tr_doc_106430 C23        \n",
       "106431 tr_doc_106431 C23        \n",
       "106432 tr_doc_106432 C23        \n",
       "106433 tr_doc_106433 C23        \n",
       "106434 tr_doc_106434 C23        \n",
       "106435 tr_doc_106435 C23        \n",
       "106436 tr_doc_106436 C23        \n",
       "106437 tr_doc_106437 C23        \n",
       "106438 tr_doc_106438 C23        \n",
       "106439 tr_doc_106439 C23        \n",
       "106440 tr_doc_106440 C23        \n",
       "106441 tr_doc_106441 C23        \n",
       "106442 tr_doc_106442 C23        \n",
       "106443 tr_doc_106443 C23        \n",
       "106444 tr_doc_106444 C23        \n",
       "106445 tr_doc_106445 C23        "
      ]
     },
     "metadata": {},
     "output_type": "display_data"
    }
   ],
   "source": [
    "doc_ids = c()\n",
    "class_lab = c()\n",
    "\n",
    "for(line in docs_train_labels){\n",
    "    doc_ids = c(doc_ids, strsplit(line, ' ')[[1]][1])\n",
    "    class_lab = c(class_lab, strsplit(line, ' ')[[1]][2])\n",
    "}\n",
    "\n",
    "docs_train_labels = data.frame('Doc_id' = doc_ids, 'Class_Label' = class_lab)"
   ]
  },
  {
   "cell_type": "code",
   "execution_count": 81,
   "metadata": {},
   "outputs": [],
   "source": [
    "library(dplyr)\n",
    "docs_final_labels = full_join(docs_final, docs_train_labels, by=\"Doc_id\")\n",
    "docs_final_bigrams_labels = full_join(docs_final_bigrams, docs_train_labels, by=\"Doc_id\")"
   ]
  },
  {
   "cell_type": "code",
   "execution_count": 95,
   "metadata": {},
   "outputs": [
    {
     "data": {
      "text/html": [
       "<ol class=list-inline>\n",
       "\t<li>133055</li>\n",
       "\t<li>358</li>\n",
       "</ol>\n"
      ],
      "text/latex": [
       "\\begin{enumerate*}\n",
       "\\item 133055\n",
       "\\item 358\n",
       "\\end{enumerate*}\n"
      ],
      "text/markdown": [
       "1. 133055\n",
       "2. 358\n",
       "\n",
       "\n"
      ],
      "text/plain": [
       "[1] 133055    358"
      ]
     },
     "metadata": {},
     "output_type": "display_data"
    }
   ],
   "source": [
    "dim(docs_final_labels)"
   ]
  },
  {
   "cell_type": "code",
   "execution_count": 98,
   "metadata": {},
   "outputs": [],
   "source": [
    "docs_train_unigrams <- docs_final_labels[!is.na(docs_final_labels$Class_Label), ]\n",
    "docs_test_unigrams <- docs_final_labels[is.na(docs_final_labels$Class_Label), ]\n",
    "\n",
    "docs_train_bigrams <- docs_final_bigrams_labels[!is.na(docs_final_bigrams_labels$Class_Label), ]\n",
    "docs_test_bigrams <- docs_final_bigrams_labels[is.na(docs_final_bigrams_labels$Class_Label), ]"
   ]
  },
  {
   "cell_type": "code",
   "execution_count": 104,
   "metadata": {},
   "outputs": [
    {
     "data": {
      "text/html": [
       "<ol class=list-inline>\n",
       "\t<li>106445</li>\n",
       "\t<li>358</li>\n",
       "</ol>\n"
      ],
      "text/latex": [
       "\\begin{enumerate*}\n",
       "\\item 106445\n",
       "\\item 358\n",
       "\\end{enumerate*}\n"
      ],
      "text/markdown": [
       "1. 106445\n",
       "2. 358\n",
       "\n",
       "\n"
      ],
      "text/plain": [
       "[1] 106445    358"
      ]
     },
     "metadata": {},
     "output_type": "display_data"
    },
    {
     "data": {
      "text/html": [
       "<ol class=list-inline>\n",
       "\t<li>26610</li>\n",
       "\t<li>358</li>\n",
       "</ol>\n"
      ],
      "text/latex": [
       "\\begin{enumerate*}\n",
       "\\item 26610\n",
       "\\item 358\n",
       "\\end{enumerate*}\n"
      ],
      "text/markdown": [
       "1. 26610\n",
       "2. 358\n",
       "\n",
       "\n"
      ],
      "text/plain": [
       "[1] 26610   358"
      ]
     },
     "metadata": {},
     "output_type": "display_data"
    },
    {
     "data": {
      "text/html": [
       "<ol class=list-inline>\n",
       "\t<li>106445</li>\n",
       "\t<li>7</li>\n",
       "</ol>\n"
      ],
      "text/latex": [
       "\\begin{enumerate*}\n",
       "\\item 106445\n",
       "\\item 7\n",
       "\\end{enumerate*}\n"
      ],
      "text/markdown": [
       "1. 106445\n",
       "2. 7\n",
       "\n",
       "\n"
      ],
      "text/plain": [
       "[1] 106445      7"
      ]
     },
     "metadata": {},
     "output_type": "display_data"
    },
    {
     "data": {
      "text/html": [
       "<ol class=list-inline>\n",
       "\t<li>26610</li>\n",
       "\t<li>7</li>\n",
       "</ol>\n"
      ],
      "text/latex": [
       "\\begin{enumerate*}\n",
       "\\item 26610\n",
       "\\item 7\n",
       "\\end{enumerate*}\n"
      ],
      "text/markdown": [
       "1. 26610\n",
       "2. 7\n",
       "\n",
       "\n"
      ],
      "text/plain": [
       "[1] 26610     7"
      ]
     },
     "metadata": {},
     "output_type": "display_data"
    }
   ],
   "source": [
    "dim(docs_train_unigrams)\n",
    "dim(docs_test_unigrams)\n",
    "dim(docs_train_bigrams)\n",
    "dim(docs_test_bigrams)"
   ]
  },
  {
   "cell_type": "code",
   "execution_count": 106,
   "metadata": {},
   "outputs": [
    {
     "data": {
      "text/html": [
       "<table>\n",
       "<thead><tr><th></th><th scope=col>abc</th><th scope=col>abl</th><th scope=col>across</th><th scope=col>act</th><th scope=col>action</th><th scope=col>actual</th><th scope=col>affect</th><th scope=col>ago</th><th scope=col>ahead</th><th scope=col>allow</th><th scope=col>...</th><th scope=col>without</th><th scope=col>won</th><th scope=col>work</th><th scope=col>world</th><th scope=col>year</th><th scope=col>yearold</th><th scope=col>yesterday</th><th scope=col>yet</th><th scope=col>Doc_id</th><th scope=col>Class_Label</th></tr></thead>\n",
       "<tbody>\n",
       "\t<tr><th scope=row>106446</th><td>0         </td><td>0.00000000</td><td>0         </td><td>0         </td><td>0.000000  </td><td>0         </td><td>0.0000000 </td><td>0.00000000</td><td>0         </td><td>0.0000000 </td><td>...       </td><td>0         </td><td>0         </td><td>0         </td><td>0         </td><td>0.12825911</td><td>0         </td><td>0         </td><td>0         </td><td>te_doc_1  </td><td>NA        </td></tr>\n",
       "\t<tr><th scope=row>106447</th><td>0         </td><td>0.08952438</td><td>0         </td><td>0         </td><td>0.000000  </td><td>0         </td><td>0.0000000 </td><td>0.08938291</td><td>0         </td><td>0.0000000 </td><td>...       </td><td>0         </td><td>0         </td><td>0         </td><td>0         </td><td>0.06860371</td><td>0         </td><td>0         </td><td>0         </td><td>te_doc_2  </td><td>NA        </td></tr>\n",
       "\t<tr><th scope=row>106448</th><td>0         </td><td>0.00000000</td><td>0         </td><td>0         </td><td>0.144536  </td><td>0         </td><td>0.0000000 </td><td>0.13253328</td><td>0         </td><td>0.0000000 </td><td>...       </td><td>0         </td><td>0         </td><td>0         </td><td>0         </td><td>0.05086137</td><td>0         </td><td>0         </td><td>0         </td><td>te_doc_3  </td><td>NA        </td></tr>\n",
       "\t<tr><th scope=row>106449</th><td>0         </td><td>0.00000000</td><td>0         </td><td>0         </td><td>0.000000  </td><td>0         </td><td>0.0000000 </td><td>0.00000000</td><td>0         </td><td>0.0000000 </td><td>...       </td><td>0         </td><td>0         </td><td>0         </td><td>0         </td><td>0.00000000</td><td>0         </td><td>0         </td><td>0         </td><td>te_doc_4  </td><td>NA        </td></tr>\n",
       "\t<tr><th scope=row>106450</th><td>0         </td><td>0.00000000</td><td>0         </td><td>0         </td><td>0.000000  </td><td>0         </td><td>0.1302037 </td><td>0.00000000</td><td>0         </td><td>0.1206373 </td><td>...       </td><td>0         </td><td>0         </td><td>0         </td><td>0         </td><td>0.00000000</td><td>0         </td><td>0         </td><td>0         </td><td>te_doc_5  </td><td>NA        </td></tr>\n",
       "\t<tr><th scope=row>106451</th><td>0         </td><td>0.00000000</td><td>0         </td><td>0         </td><td>0.000000  </td><td>0         </td><td>0.0000000 </td><td>0.00000000</td><td>0         </td><td>0.0000000 </td><td>...       </td><td>0         </td><td>0         </td><td>0         </td><td>0         </td><td>0.00000000</td><td>0         </td><td>0         </td><td>0         </td><td>te_doc_6  </td><td>NA        </td></tr>\n",
       "</tbody>\n",
       "</table>\n"
      ],
      "text/latex": [
       "\\begin{tabular}{r|llllllllllllllllllllllllllllllllllllllllllllllllllllllllllllllllllllllllllllllllllllllllllllllllllllllllllllllllllllllllllllllllllllllllllllllllllllllllllllllllllllllllllllllllllllllllllllllllllllllllllllllllllllllllllllllllllllllllllllllllllllllllllllllllllllllllllllllllllllllllllllllllllllllllllllllllllllllllllllllllllllllllllllllllllllllllllllllllllllll}\n",
       "  & abc & abl & across & act & action & actual & affect & ago & ahead & allow & ... & without & won & work & world & year & yearold & yesterday & yet & Doc\\_id & Class\\_Label\\\\\n",
       "\\hline\n",
       "\t106446 & 0            & 0.00000000   & 0            & 0            & 0.000000     & 0            & 0.0000000    & 0.00000000   & 0            & 0.0000000    & ...          & 0            & 0            & 0            & 0            & 0.12825911   & 0            & 0            & 0            & te\\_doc\\_1 & NA          \\\\\n",
       "\t106447 & 0            & 0.08952438   & 0            & 0            & 0.000000     & 0            & 0.0000000    & 0.08938291   & 0            & 0.0000000    & ...          & 0            & 0            & 0            & 0            & 0.06860371   & 0            & 0            & 0            & te\\_doc\\_2 & NA          \\\\\n",
       "\t106448 & 0            & 0.00000000   & 0            & 0            & 0.144536     & 0            & 0.0000000    & 0.13253328   & 0            & 0.0000000    & ...          & 0            & 0            & 0            & 0            & 0.05086137   & 0            & 0            & 0            & te\\_doc\\_3 & NA          \\\\\n",
       "\t106449 & 0            & 0.00000000   & 0            & 0            & 0.000000     & 0            & 0.0000000    & 0.00000000   & 0            & 0.0000000    & ...          & 0            & 0            & 0            & 0            & 0.00000000   & 0            & 0            & 0            & te\\_doc\\_4 & NA          \\\\\n",
       "\t106450 & 0            & 0.00000000   & 0            & 0            & 0.000000     & 0            & 0.1302037    & 0.00000000   & 0            & 0.1206373    & ...          & 0            & 0            & 0            & 0            & 0.00000000   & 0            & 0            & 0            & te\\_doc\\_5 & NA          \\\\\n",
       "\t106451 & 0            & 0.00000000   & 0            & 0            & 0.000000     & 0            & 0.0000000    & 0.00000000   & 0            & 0.0000000    & ...          & 0            & 0            & 0            & 0            & 0.00000000   & 0            & 0            & 0            & te\\_doc\\_6 & NA          \\\\\n",
       "\\end{tabular}\n"
      ],
      "text/markdown": [
       "\n",
       "| <!--/--> | abc | abl | across | act | action | actual | affect | ago | ahead | allow | ... | without | won | work | world | year | yearold | yesterday | yet | Doc_id | Class_Label | \n",
       "|---|---|---|---|---|---|\n",
       "| 106446 | 0          | 0.00000000 | 0          | 0          | 0.000000   | 0          | 0.0000000  | 0.00000000 | 0          | 0.0000000  | ...        | 0          | 0          | 0          | 0          | 0.12825911 | 0          | 0          | 0          | te_doc_1   | NA         | \n",
       "| 106447 | 0          | 0.08952438 | 0          | 0          | 0.000000   | 0          | 0.0000000  | 0.08938291 | 0          | 0.0000000  | ...        | 0          | 0          | 0          | 0          | 0.06860371 | 0          | 0          | 0          | te_doc_2   | NA         | \n",
       "| 106448 | 0          | 0.00000000 | 0          | 0          | 0.144536   | 0          | 0.0000000  | 0.13253328 | 0          | 0.0000000  | ...        | 0          | 0          | 0          | 0          | 0.05086137 | 0          | 0          | 0          | te_doc_3   | NA         | \n",
       "| 106449 | 0          | 0.00000000 | 0          | 0          | 0.000000   | 0          | 0.0000000  | 0.00000000 | 0          | 0.0000000  | ...        | 0          | 0          | 0          | 0          | 0.00000000 | 0          | 0          | 0          | te_doc_4   | NA         | \n",
       "| 106450 | 0          | 0.00000000 | 0          | 0          | 0.000000   | 0          | 0.1302037  | 0.00000000 | 0          | 0.1206373  | ...        | 0          | 0          | 0          | 0          | 0.00000000 | 0          | 0          | 0          | te_doc_5   | NA         | \n",
       "| 106451 | 0          | 0.00000000 | 0          | 0          | 0.000000   | 0          | 0.0000000  | 0.00000000 | 0          | 0.0000000  | ...        | 0          | 0          | 0          | 0          | 0.00000000 | 0          | 0          | 0          | te_doc_6   | NA         | \n",
       "\n",
       "\n"
      ],
      "text/plain": [
       "       abc abl        across act action   actual affect    ago        ahead\n",
       "106446 0   0.00000000 0      0   0.000000 0      0.0000000 0.00000000 0    \n",
       "106447 0   0.08952438 0      0   0.000000 0      0.0000000 0.08938291 0    \n",
       "106448 0   0.00000000 0      0   0.144536 0      0.0000000 0.13253328 0    \n",
       "106449 0   0.00000000 0      0   0.000000 0      0.0000000 0.00000000 0    \n",
       "106450 0   0.00000000 0      0   0.000000 0      0.1302037 0.00000000 0    \n",
       "106451 0   0.00000000 0      0   0.000000 0      0.0000000 0.00000000 0    \n",
       "       allow     ... without won work world year       yearold yesterday yet\n",
       "106446 0.0000000 ... 0       0   0    0     0.12825911 0       0         0  \n",
       "106447 0.0000000 ... 0       0   0    0     0.06860371 0       0         0  \n",
       "106448 0.0000000 ... 0       0   0    0     0.05086137 0       0         0  \n",
       "106449 0.0000000 ... 0       0   0    0     0.00000000 0       0         0  \n",
       "106450 0.1206373 ... 0       0   0    0     0.00000000 0       0         0  \n",
       "106451 0.0000000 ... 0       0   0    0     0.00000000 0       0         0  \n",
       "       Doc_id   Class_Label\n",
       "106446 te_doc_1 NA         \n",
       "106447 te_doc_2 NA         \n",
       "106448 te_doc_3 NA         \n",
       "106449 te_doc_4 NA         \n",
       "106450 te_doc_5 NA         \n",
       "106451 te_doc_6 NA         "
      ]
     },
     "metadata": {},
     "output_type": "display_data"
    }
   ],
   "source": [
    "head(docs_test_unigrams)\n"
   ]
  },
  {
   "cell_type": "markdown",
   "metadata": {},
   "source": [
    "# Writing to CSV"
   ]
  },
  {
   "cell_type": "code",
   "execution_count": 103,
   "metadata": {},
   "outputs": [],
   "source": [
    "write.csv(docs_train_unigrams, file = \"docs_train_unigrams.csv\",row.names = FALSE)\n",
    "write.csv(docs_test_unigrams, file = \"docs_test_unigrams.csv\",row.names = FALSE)\n",
    "write.csv(docs_train_bigrams, file = \"docs_train_bigrams.csv\",row.names = FALSE)\n",
    "write.csv(docs_test_bigrams, file = \"docs_test_bigrams.csv\",row.names = FALSE)"
   ]
  }
 ],
 "metadata": {
  "kernelspec": {
   "display_name": "R",
   "language": "R",
   "name": "ir"
  },
  "language_info": {
   "codemirror_mode": "r",
   "file_extension": ".r",
   "mimetype": "text/x-r-source",
   "name": "R",
   "pygments_lexer": "r",
   "version": "3.4.3"
  }
 },
 "nbformat": 4,
 "nbformat_minor": 2
}
