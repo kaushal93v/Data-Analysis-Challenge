{
 "cells": [
  {
   "cell_type": "markdown",
   "metadata": {},
   "source": [
    "## Loading Libraries"
   ]
  },
  {
   "cell_type": "code",
   "execution_count": 1,
   "metadata": {
    "scrolled": true
   },
   "outputs": [
    {
     "name": "stderr",
     "output_type": "stream",
     "text": [
      "\n",
      "Attaching package: 'dplyr'\n",
      "\n",
      "The following objects are masked from 'package:stats':\n",
      "\n",
      "    filter, lag\n",
      "\n",
      "The following objects are masked from 'package:base':\n",
      "\n",
      "    intersect, setdiff, setequal, union\n",
      "\n"
     ]
    }
   ],
   "source": [
    "library(e1071) # for SVM classifier\n",
    "library(dplyr) # for data manipulation"
   ]
  },
  {
   "cell_type": "markdown",
   "metadata": {},
   "source": [
    "## Reading Datasets"
   ]
  },
  {
   "cell_type": "code",
   "execution_count": 2,
   "metadata": {},
   "outputs": [],
   "source": [
    "# reading train data unigrams and bigrams\n",
    "docs_train_unigrams = read.csv('docs_train_unigrams.csv')\n",
    "docs_train_bigrams = read.csv('docs_train_bigrams.csv')\n",
    "\n",
    "# reading test data unigrams and bigrams\n",
    "docs_test_unigrams = read.csv('docs_test_unigrams.csv')\n",
    "docs_test_bigrams = read.csv('docs_test_bigrams.csv')"
   ]
  },
  {
   "cell_type": "markdown",
   "metadata": {},
   "source": [
    "## Merging Datasets"
   ]
  },
  {
   "cell_type": "code",
   "execution_count": 3,
   "metadata": {},
   "outputs": [],
   "source": [
    "#merging unigrams and bigrams for train and test data\n",
    "docs_train = merge(docs_train_unigrams, docs_train_bigrams, by=c(\"Doc_id\",\"Class_Label\"))\n",
    "docs_test = merge(docs_test_unigrams, docs_test_bigrams, by=c(\"Doc_id\",\"Class_Label\"))\n",
    "\n",
    "docs_test = subset(docs_test, select = -c(Class_Label)) #removing class_label values cuz it has NAs from the test data "
   ]
  },
  {
   "cell_type": "markdown",
   "metadata": {},
   "source": [
    "## Scaling(Normalizing data) for features"
   ]
  },
  {
   "cell_type": "code",
   "execution_count": 4,
   "metadata": {},
   "outputs": [],
   "source": [
    "#scaling data for train for except Class_Label column\n",
    "docs_train[, !names(docs_train) %in% c(\"Doc_id\",\"Class_Label\")] <- scale(docs_train[, !names(docs_train) %in% c(\"Doc_id\",\"Class_Label\")])\n",
    "\n",
    "#scaling test data\n",
    "docs_test[, !names(docs_test) %in% c(\"Doc_id\")] <- scale(docs_test[, !names(docs_test) %in% c(\"Doc_id\")])"
   ]
  },
  {
   "cell_type": "code",
   "execution_count": 5,
   "metadata": {},
   "outputs": [
    {
     "data": {
      "text/html": [
       "<ol class=list-inline>\n",
       "\t<li>106445</li>\n",
       "\t<li>363</li>\n",
       "</ol>\n"
      ],
      "text/latex": [
       "\\begin{enumerate*}\n",
       "\\item 106445\n",
       "\\item 363\n",
       "\\end{enumerate*}\n"
      ],
      "text/markdown": [
       "1. 106445\n",
       "2. 363\n",
       "\n",
       "\n"
      ],
      "text/plain": [
       "[1] 106445    363"
      ]
     },
     "metadata": {},
     "output_type": "display_data"
    },
    {
     "data": {
      "text/html": [
       "<ol class=list-inline>\n",
       "\t<li>26610</li>\n",
       "\t<li>362</li>\n",
       "</ol>\n"
      ],
      "text/latex": [
       "\\begin{enumerate*}\n",
       "\\item 26610\n",
       "\\item 362\n",
       "\\end{enumerate*}\n"
      ],
      "text/markdown": [
       "1. 26610\n",
       "2. 362\n",
       "\n",
       "\n"
      ],
      "text/plain": [
       "[1] 26610   362"
      ]
     },
     "metadata": {},
     "output_type": "display_data"
    }
   ],
   "source": [
    "# dimensions of train and test data\n",
    "dim(docs_train)\n",
    "dim(docs_test)"
   ]
  },
  {
   "cell_type": "markdown",
   "metadata": {},
   "source": [
    "## Splitting train data into sample train and test data sets"
   ]
  },
  {
   "cell_type": "code",
   "execution_count": 6,
   "metadata": {},
   "outputs": [],
   "source": [
    "#generating indices and splitting train data into sample train and sample test data sets\n",
    "sample_ind = sample(nrow(docs_train), 0.8*nrow(docs_train), replace = FALSE)\n",
    "sample_train = docs_train[sample_ind,] \n",
    "sample_test = docs_train[-sample_ind,] "
   ]
  },
  {
   "cell_type": "code",
   "execution_count": 7,
   "metadata": {},
   "outputs": [
    {
     "data": {
      "text/html": [
       "<ol class=list-inline>\n",
       "\t<li>85156</li>\n",
       "\t<li>363</li>\n",
       "</ol>\n"
      ],
      "text/latex": [
       "\\begin{enumerate*}\n",
       "\\item 85156\n",
       "\\item 363\n",
       "\\end{enumerate*}\n"
      ],
      "text/markdown": [
       "1. 85156\n",
       "2. 363\n",
       "\n",
       "\n"
      ],
      "text/plain": [
       "[1] 85156   363"
      ]
     },
     "metadata": {},
     "output_type": "display_data"
    },
    {
     "data": {
      "text/html": [
       "<ol class=list-inline>\n",
       "\t<li>21289</li>\n",
       "\t<li>363</li>\n",
       "</ol>\n"
      ],
      "text/latex": [
       "\\begin{enumerate*}\n",
       "\\item 21289\n",
       "\\item 363\n",
       "\\end{enumerate*}\n"
      ],
      "text/markdown": [
       "1. 21289\n",
       "2. 363\n",
       "\n",
       "\n"
      ],
      "text/plain": [
       "[1] 21289   363"
      ]
     },
     "metadata": {},
     "output_type": "display_data"
    }
   ],
   "source": [
    "#dimensions of sample train, sample test\n",
    "dim(sample_train)\n",
    "dim(sample_test)"
   ]
  },
  {
   "cell_type": "code",
   "execution_count": 8,
   "metadata": {},
   "outputs": [],
   "source": [
    "# converting Class labels into factors\n",
    "sample_train[[\"Class_Label\"]] = factor(sample_train[[\"Class_Label\"]])"
   ]
  },
  {
   "cell_type": "markdown",
   "metadata": {},
   "source": [
    "## SVM Classifier for the split train and test data"
   ]
  },
  {
   "cell_type": "markdown",
   "metadata": {},
   "source": [
    "### SVM Classifier"
   ]
  },
  {
   "cell_type": "code",
   "execution_count": null,
   "metadata": {},
   "outputs": [],
   "source": [
    "# building the classifier\n",
    "svm.fit <- svm(Class_Label ~ .-Doc_id , sample_train, kernel = \"radial\", cost = 2)"
   ]
  },
  {
   "cell_type": "markdown",
   "metadata": {},
   "source": [
    "### Prediction of labels for both train and test data "
   ]
  },
  {
   "cell_type": "code",
   "execution_count": null,
   "metadata": {},
   "outputs": [],
   "source": [
    "# prediction of sample train data using the built classifier\n",
    "sample_train$predicted_label <- predict(svm.fit, sample_train)"
   ]
  },
  {
   "cell_type": "code",
   "execution_count": null,
   "metadata": {},
   "outputs": [],
   "source": [
    "# prediction of sample test data using the built classifier\n",
    "sample_test$predicted_label <- predict(svm.fit, sample_test)"
   ]
  },
  {
   "cell_type": "markdown",
   "metadata": {},
   "source": [
    "### Confusion matrices for train and test data"
   ]
  },
  {
   "cell_type": "code",
   "execution_count": null,
   "metadata": {},
   "outputs": [],
   "source": [
    "# Confusion Matrix for train data\n",
    "conf_train = table(sample_train$Class_Label, sample_train$predicted_label)"
   ]
  },
  {
   "cell_type": "code",
   "execution_count": null,
   "metadata": {},
   "outputs": [],
   "source": [
    "# Confusion Matrix for test data\n",
    "conf_test = table(sample_test$Class_Label, sample_test$predicted_label)"
   ]
  },
  {
   "cell_type": "markdown",
   "metadata": {},
   "source": [
    "### Train and Test Accuracy"
   ]
  },
  {
   "cell_type": "code",
   "execution_count": null,
   "metadata": {},
   "outputs": [],
   "source": [
    "N_train <- nrow(sample_train)\n",
    "diag_train = diag(conf_train)\n",
    "train_accuracy = sum(diag_train)/N_train\n",
    "round(train_accuracy*100, 2) # train accuracy"
   ]
  },
  {
   "cell_type": "code",
   "execution_count": null,
   "metadata": {},
   "outputs": [],
   "source": [
    "N_test <- nrow(sample_test)\n",
    "diag_test = diag(conf_test)\n",
    "test_accuracy = sum(diag_test)/N_test\n",
    "round(test_accuracy*100, 2) # train accuracy"
   ]
  },
  {
   "cell_type": "markdown",
   "metadata": {},
   "source": [
    "### Precision and Recall for test data"
   ]
  },
  {
   "cell_type": "code",
   "execution_count": null,
   "metadata": {},
   "outputs": [],
   "source": [
    "# matrix computations\n",
    "rowsums = apply(conf_test, 1, sum)\n",
    "colsums = apply(conf_test, 2, sum)"
   ]
  },
  {
   "cell_type": "code",
   "execution_count": null,
   "metadata": {},
   "outputs": [],
   "source": [
    "# Precision for test data\n",
    "Precision = diag/ colsums\n",
    "Precision = round(Precision, 2)\n",
    "round(mean(Precision),2)"
   ]
  },
  {
   "cell_type": "code",
   "execution_count": null,
   "metadata": {},
   "outputs": [],
   "source": [
    "# Recall for test data\n",
    "Recall = diag / rowsums\n",
    "Recall = round(Recall, 2)\n",
    "round(mean(Recall),2)"
   ]
  },
  {
   "cell_type": "markdown",
   "metadata": {},
   "source": [
    "### F-Score"
   ]
  },
  {
   "cell_type": "code",
   "execution_count": null,
   "metadata": {},
   "outputs": [],
   "source": [
    "f.score = (2*Precision*Recall)/(Precision + Recall)\n",
    "round(mean(f.score),2)"
   ]
  },
  {
   "cell_type": "markdown",
   "metadata": {},
   "source": [
    "## Building SVM Classifier on whole data and Prediction of test labels"
   ]
  },
  {
   "cell_type": "code",
   "execution_count": null,
   "metadata": {},
   "outputs": [],
   "source": [
    "# building the classifier on whole data\n",
    "svm.fit.final <- svm(Class_Label ~ .-Doc_id , docs_train, kernel = \"radial\", cost = 2)"
   ]
  },
  {
   "cell_type": "code",
   "execution_count": null,
   "metadata": {},
   "outputs": [],
   "source": [
    "# predicting class labels\n",
    "docs_test$predicted_label <- predict(svm.fit.final, docs_test)"
   ]
  },
  {
   "cell_type": "code",
   "execution_count": null,
   "metadata": {},
   "outputs": [],
   "source": [
    "head(docs_test)"
   ]
  },
  {
   "cell_type": "markdown",
   "metadata": {},
   "source": [
    "## Writing test labels to csv"
   ]
  },
  {
   "cell_type": "code",
   "execution_count": null,
   "metadata": {},
   "outputs": [],
   "source": [
    "docs_test_labels <- subset(docs_test, select = c(Doc_id,predicted_label))"
   ]
  },
  {
   "cell_type": "code",
   "execution_count": null,
   "metadata": {},
   "outputs": [],
   "source": [
    "head(docs_test_labels)"
   ]
  },
  {
   "cell_type": "code",
   "execution_count": null,
   "metadata": {},
   "outputs": [],
   "source": [
    "write.table(docs_test_labels,\"testing_labels_pred.txt\",sep = \" \", col.names=FALSE,row.names=FALSE, quote = FALSE)"
   ]
  }
 ],
 "metadata": {
  "kernelspec": {
   "display_name": "R",
   "language": "R",
   "name": "ir"
  },
  "language_info": {
   "codemirror_mode": "r",
   "file_extension": ".r",
   "mimetype": "text/x-r-source",
   "name": "R",
   "pygments_lexer": "r",
   "version": "3.4.3"
  }
 },
 "nbformat": 4,
 "nbformat_minor": 2
}
