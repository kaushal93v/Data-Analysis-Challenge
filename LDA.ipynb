{
 "cells": [
  {
   "cell_type": "code",
   "execution_count": 1,
   "metadata": {},
   "outputs": [
    {
     "name": "stderr",
     "output_type": "stream",
     "text": [
      "Loading required package: MASS\n"
     ]
    }
   ],
   "source": [
    "require(MASS)"
   ]
  },
  {
   "cell_type": "code",
   "execution_count": 2,
   "metadata": {},
   "outputs": [],
   "source": [
    "docs_train_unigrams = read.csv('docs_train_unigrams.csv')\n",
    "docs_train_bigrams = read.csv('docs_train_bigrams.csv')"
   ]
  },
  {
   "cell_type": "code",
   "execution_count": 3,
   "metadata": {},
   "outputs": [],
   "source": [
    "docs_train = merge(docs_train_unigrams, docs_train_bigrams, by=c(\"Doc_id\",\"Class_Label\"))\n",
    "docs_train = subset(docs_train, select = -c(Doc_id))"
   ]
  },
  {
   "cell_type": "code",
   "execution_count": 4,
   "metadata": {},
   "outputs": [],
   "source": [
    "sample_ind = sample(nrow(docs_train), 0.8*nrow(docs_train), replace = FALSE)\n",
    "sample_train = docs_train[sample_ind,]\n",
    "sample_test = docs_train[-sample_ind,]"
   ]
  },
  {
   "cell_type": "code",
   "execution_count": 5,
   "metadata": {},
   "outputs": [
    {
     "data": {
      "text/html": [
       "<ol class=list-inline>\n",
       "\t<li>85156</li>\n",
       "\t<li>362</li>\n",
       "</ol>\n"
      ],
      "text/latex": [
       "\\begin{enumerate*}\n",
       "\\item 85156\n",
       "\\item 362\n",
       "\\end{enumerate*}\n"
      ],
      "text/markdown": [
       "1. 85156\n",
       "2. 362\n",
       "\n",
       "\n"
      ],
      "text/plain": [
       "[1] 85156   362"
      ]
     },
     "metadata": {},
     "output_type": "display_data"
    }
   ],
   "source": [
    "dim(sample_train)"
   ]
  },
  {
   "cell_type": "code",
   "execution_count": 6,
   "metadata": {},
   "outputs": [
    {
     "data": {
      "text/html": [
       "<table>\n",
       "<thead><tr><th></th><th scope=col>Class_Label</th><th scope=col>abc</th><th scope=col>abl</th><th scope=col>across</th><th scope=col>act</th><th scope=col>action</th><th scope=col>actual</th><th scope=col>affect</th><th scope=col>ago</th><th scope=col>ahead</th><th scope=col>...</th><th scope=col>world</th><th scope=col>year</th><th scope=col>yearold</th><th scope=col>yesterday</th><th scope=col>yet</th><th scope=col>last.week</th><th scope=col>last.year</th><th scope=col>new.south</th><th scope=col>per.cent</th><th scope=col>south.wale</th></tr></thead>\n",
       "<tbody>\n",
       "\t<tr><th scope=row>10943</th><td>C4        </td><td>0         </td><td>0.00000000</td><td>0.00000000</td><td>0         </td><td>0         </td><td>0         </td><td>0         </td><td>0         </td><td>0         </td><td>...       </td><td>0.0000000 </td><td>0.00000000</td><td>0.0000000 </td><td>0.0000000 </td><td>0         </td><td>0         </td><td>0.000000  </td><td>0         </td><td>0         </td><td>0         </td></tr>\n",
       "\t<tr><th scope=row>28456</th><td>C7        </td><td>0         </td><td>0.05832649</td><td>0.05717332</td><td>0         </td><td>0         </td><td>0         </td><td>0         </td><td>0         </td><td>0         </td><td>...       </td><td>0.0000000 </td><td>0.00000000</td><td>0.0000000 </td><td>0.0000000 </td><td>0         </td><td>0         </td><td>0.000000  </td><td>0         </td><td>0         </td><td>0         </td></tr>\n",
       "\t<tr><th scope=row>2581</th><td>C23       </td><td>0         </td><td>0.00000000</td><td>0.00000000</td><td>0         </td><td>0         </td><td>0         </td><td>0         </td><td>0         </td><td>0         </td><td>...       </td><td>0.1395409 </td><td>0.14749797</td><td>0.0000000 </td><td>0.0000000 </td><td>0         </td><td>0         </td><td>0.000000  </td><td>0         </td><td>0         </td><td>0         </td></tr>\n",
       "\t<tr><th scope=row>72512</th><td>C15       </td><td>0         </td><td>0.00000000</td><td>0.00000000</td><td>0         </td><td>0         </td><td>0         </td><td>0         </td><td>0         </td><td>0         </td><td>...       </td><td>0.0000000 </td><td>0.00000000</td><td>0.0000000 </td><td>0.0000000 </td><td>0         </td><td>0         </td><td>0.000000  </td><td>0         </td><td>0         </td><td>0         </td></tr>\n",
       "\t<tr><th scope=row>98384</th><td>C21       </td><td>0         </td><td>0.00000000</td><td>0.00000000</td><td>0         </td><td>0         </td><td>0         </td><td>0         </td><td>0         </td><td>0         </td><td>...       </td><td>0.0000000 </td><td>0.00000000</td><td>0.0000000 </td><td>0.0885010 </td><td>0         </td><td>0         </td><td>0.000000  </td><td>0         </td><td>0         </td><td>0         </td></tr>\n",
       "\t<tr><th scope=row>91918</th><td>C19       </td><td>0         </td><td>0.00000000</td><td>0.00000000</td><td>0         </td><td>0         </td><td>0         </td><td>0         </td><td>0         </td><td>0         </td><td>...       </td><td>0.0000000 </td><td>0.05899919</td><td>0.2360831 </td><td>0.1451416 </td><td>0         </td><td>0         </td><td>3.442229  </td><td>0         </td><td>0         </td><td>0         </td></tr>\n",
       "</tbody>\n",
       "</table>\n"
      ],
      "text/latex": [
       "\\begin{tabular}{r|llllllllllllllllllllllllllllllllllllllllllllllllllllllllllllllllllllllllllllllllllllllllllllllllllllllllllllllllllllllllllllllllllllllllllllllllllllllllllllllllllllllllllllllllllllllllllllllllllllllllllllllllllllllllllllllllllllllllllllllllllllllllllllllllllllllllllllllllllllllllllllllllllllllllllllllllllllllllllllllllllllllllllllllllllllllllllllllllllllllllll}\n",
       "  & Class\\_Label & abc & abl & across & act & action & actual & affect & ago & ahead & ... & world & year & yearold & yesterday & yet & last.week & last.year & new.south & per.cent & south.wale\\\\\n",
       "\\hline\n",
       "\t10943 & C4         & 0          & 0.00000000 & 0.00000000 & 0          & 0          & 0          & 0          & 0          & 0          & ...        & 0.0000000  & 0.00000000 & 0.0000000  & 0.0000000  & 0          & 0          & 0.000000   & 0          & 0          & 0         \\\\\n",
       "\t28456 & C7         & 0          & 0.05832649 & 0.05717332 & 0          & 0          & 0          & 0          & 0          & 0          & ...        & 0.0000000  & 0.00000000 & 0.0000000  & 0.0000000  & 0          & 0          & 0.000000   & 0          & 0          & 0         \\\\\n",
       "\t2581 & C23        & 0          & 0.00000000 & 0.00000000 & 0          & 0          & 0          & 0          & 0          & 0          & ...        & 0.1395409  & 0.14749797 & 0.0000000  & 0.0000000  & 0          & 0          & 0.000000   & 0          & 0          & 0         \\\\\n",
       "\t72512 & C15        & 0          & 0.00000000 & 0.00000000 & 0          & 0          & 0          & 0          & 0          & 0          & ...        & 0.0000000  & 0.00000000 & 0.0000000  & 0.0000000  & 0          & 0          & 0.000000   & 0          & 0          & 0         \\\\\n",
       "\t98384 & C21        & 0          & 0.00000000 & 0.00000000 & 0          & 0          & 0          & 0          & 0          & 0          & ...        & 0.0000000  & 0.00000000 & 0.0000000  & 0.0885010  & 0          & 0          & 0.000000   & 0          & 0          & 0         \\\\\n",
       "\t91918 & C19        & 0          & 0.00000000 & 0.00000000 & 0          & 0          & 0          & 0          & 0          & 0          & ...        & 0.0000000  & 0.05899919 & 0.2360831  & 0.1451416  & 0          & 0          & 3.442229   & 0          & 0          & 0         \\\\\n",
       "\\end{tabular}\n"
      ],
      "text/markdown": [
       "\n",
       "| <!--/--> | Class_Label | abc | abl | across | act | action | actual | affect | ago | ahead | ... | world | year | yearold | yesterday | yet | last.week | last.year | new.south | per.cent | south.wale | \n",
       "|---|---|---|---|---|---|\n",
       "| 10943 | C4         | 0          | 0.00000000 | 0.00000000 | 0          | 0          | 0          | 0          | 0          | 0          | ...        | 0.0000000  | 0.00000000 | 0.0000000  | 0.0000000  | 0          | 0          | 0.000000   | 0          | 0          | 0          | \n",
       "| 28456 | C7         | 0          | 0.05832649 | 0.05717332 | 0          | 0          | 0          | 0          | 0          | 0          | ...        | 0.0000000  | 0.00000000 | 0.0000000  | 0.0000000  | 0          | 0          | 0.000000   | 0          | 0          | 0          | \n",
       "| 2581 | C23        | 0          | 0.00000000 | 0.00000000 | 0          | 0          | 0          | 0          | 0          | 0          | ...        | 0.1395409  | 0.14749797 | 0.0000000  | 0.0000000  | 0          | 0          | 0.000000   | 0          | 0          | 0          | \n",
       "| 72512 | C15        | 0          | 0.00000000 | 0.00000000 | 0          | 0          | 0          | 0          | 0          | 0          | ...        | 0.0000000  | 0.00000000 | 0.0000000  | 0.0000000  | 0          | 0          | 0.000000   | 0          | 0          | 0          | \n",
       "| 98384 | C21        | 0          | 0.00000000 | 0.00000000 | 0          | 0          | 0          | 0          | 0          | 0          | ...        | 0.0000000  | 0.00000000 | 0.0000000  | 0.0885010  | 0          | 0          | 0.000000   | 0          | 0          | 0          | \n",
       "| 91918 | C19        | 0          | 0.00000000 | 0.00000000 | 0          | 0          | 0          | 0          | 0          | 0          | ...        | 0.0000000  | 0.05899919 | 0.2360831  | 0.1451416  | 0          | 0          | 3.442229   | 0          | 0          | 0          | \n",
       "\n",
       "\n"
      ],
      "text/plain": [
       "      Class_Label abc abl        across     act action actual affect ago ahead\n",
       "10943 C4          0   0.00000000 0.00000000 0   0      0      0      0   0    \n",
       "28456 C7          0   0.05832649 0.05717332 0   0      0      0      0   0    \n",
       "2581  C23         0   0.00000000 0.00000000 0   0      0      0      0   0    \n",
       "72512 C15         0   0.00000000 0.00000000 0   0      0      0      0   0    \n",
       "98384 C21         0   0.00000000 0.00000000 0   0      0      0      0   0    \n",
       "91918 C19         0   0.00000000 0.00000000 0   0      0      0      0   0    \n",
       "      ... world     year       yearold   yesterday yet last.week last.year\n",
       "10943 ... 0.0000000 0.00000000 0.0000000 0.0000000 0   0         0.000000 \n",
       "28456 ... 0.0000000 0.00000000 0.0000000 0.0000000 0   0         0.000000 \n",
       "2581  ... 0.1395409 0.14749797 0.0000000 0.0000000 0   0         0.000000 \n",
       "72512 ... 0.0000000 0.00000000 0.0000000 0.0000000 0   0         0.000000 \n",
       "98384 ... 0.0000000 0.00000000 0.0000000 0.0885010 0   0         0.000000 \n",
       "91918 ... 0.0000000 0.05899919 0.2360831 0.1451416 0   0         3.442229 \n",
       "      new.south per.cent south.wale\n",
       "10943 0         0        0         \n",
       "28456 0         0        0         \n",
       "2581  0         0        0         \n",
       "72512 0         0        0         \n",
       "98384 0         0        0         \n",
       "91918 0         0        0         "
      ]
     },
     "metadata": {},
     "output_type": "display_data"
    }
   ],
   "source": [
    "head(sample_train)"
   ]
  },
  {
   "cell_type": "code",
   "execution_count": 7,
   "metadata": {},
   "outputs": [],
   "source": [
    "lda_fit = lda(Class_Label ~ ., sample_train)"
   ]
  },
  {
   "cell_type": "code",
   "execution_count": null,
   "metadata": {},
   "outputs": [],
   "source": [
    "sample_train$predicted_label <- predict(lda_fit, sample_train)"
   ]
  },
  {
   "cell_type": "code",
   "execution_count": null,
   "metadata": {},
   "outputs": [],
   "source": [
    "sample_test$predicted_label <- predict(lda_fit, sample_test)"
   ]
  },
  {
   "cell_type": "code",
   "execution_count": null,
   "metadata": {},
   "outputs": [],
   "source": [
    "# Train Accuracy\n",
    "mean(sample_train$Class_Label == sample_train$predicted_label)"
   ]
  },
  {
   "cell_type": "code",
   "execution_count": null,
   "metadata": {},
   "outputs": [],
   "source": [
    "# Test Accuracy\n",
    "mean(sample_test$Class_Label == sample_test$predicted_label)"
   ]
  },
  {
   "cell_type": "code",
   "execution_count": null,
   "metadata": {},
   "outputs": [],
   "source": []
  }
 ],
 "metadata": {
  "kernelspec": {
   "display_name": "R",
   "language": "R",
   "name": "ir"
  },
  "language_info": {
   "codemirror_mode": "r",
   "file_extension": ".r",
   "mimetype": "text/x-r-source",
   "name": "R",
   "pygments_lexer": "r",
   "version": "3.4.3"
  }
 },
 "nbformat": 4,
 "nbformat_minor": 2
}
