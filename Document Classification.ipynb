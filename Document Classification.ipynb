{
 "cells": [
  {
   "cell_type": "code",
   "execution_count": 450,
   "metadata": {
    "scrolled": true
   },
   "outputs": [],
   "source": [
    "library(e1071)\n",
    "library(dplyr)\n",
    "library(caret)"
   ]
  },
  {
   "cell_type": "code",
   "execution_count": 451,
   "metadata": {},
   "outputs": [],
   "source": [
    "docs_train_unigrams = read.csv('docs_train_unigrams.csv')\n",
    "docs_train_bigrams = read.csv('docs_train_bigrams.csv')"
   ]
  },
  {
   "cell_type": "code",
   "execution_count": 452,
   "metadata": {},
   "outputs": [
    {
     "data": {
      "text/html": [
       "<table>\n",
       "<thead><tr><th scope=col>Class_Label</th><th scope=col>abc</th><th scope=col>abl</th><th scope=col>across</th><th scope=col>act</th><th scope=col>action</th><th scope=col>actual</th><th scope=col>affect</th><th scope=col>ago</th><th scope=col>ahead</th><th scope=col>...</th><th scope=col>world</th><th scope=col>year</th><th scope=col>yearold</th><th scope=col>yesterday</th><th scope=col>yet</th><th scope=col>last.week</th><th scope=col>last.year</th><th scope=col>new.south</th><th scope=col>per.cent</th><th scope=col>south.wale</th></tr></thead>\n",
       "<tbody>\n",
       "\t<tr><td>C1        </td><td>0         </td><td>0         </td><td>0.0000000 </td><td>0         </td><td>0         </td><td>0         </td><td>0         </td><td>0.00000000</td><td>0         </td><td>...       </td><td>0.00000000</td><td>0.04338176</td><td>0.1301929 </td><td>0         </td><td>0         </td><td>0         </td><td>0         </td><td>0.000000  </td><td>3.410177  </td><td>0.00000   </td></tr>\n",
       "\t<tr><td>C1        </td><td>0         </td><td>0         </td><td>0.0000000 </td><td>0         </td><td>0         </td><td>0         </td><td>0         </td><td>0.00000000</td><td>0         </td><td>...       </td><td>0.00000000</td><td>0.04609312</td><td>0.0000000 </td><td>0         </td><td>0         </td><td>0         </td><td>0         </td><td>1.759354  </td><td>0.000000  </td><td>1.76478   </td></tr>\n",
       "\t<tr><td>C1        </td><td>0         </td><td>0         </td><td>0.7546878 </td><td>0         </td><td>0         </td><td>0         </td><td>0         </td><td>0.00000000</td><td>0         </td><td>...       </td><td>0.00000000</td><td>0.00000000</td><td>0.0000000 </td><td>0         </td><td>0         </td><td>0         </td><td>0         </td><td>0.000000  </td><td>0.000000  </td><td>0.00000   </td></tr>\n",
       "\t<tr><td>C1        </td><td>0         </td><td>0         </td><td>0.0000000 </td><td>0         </td><td>0         </td><td>0         </td><td>0         </td><td>0.04745019</td><td>0         </td><td>...       </td><td>0.03445453</td><td>0.03641925</td><td>0.0000000 </td><td>0         </td><td>0         </td><td>0         </td><td>0         </td><td>0.000000  </td><td>0.000000  </td><td>0.00000   </td></tr>\n",
       "\t<tr><td>C1        </td><td>0         </td><td>0         </td><td>0.0000000 </td><td>0         </td><td>0         </td><td>0         </td><td>0         </td><td>0.00000000</td><td>0         </td><td>...       </td><td>0.00000000</td><td>0.00000000</td><td>0.1967359 </td><td>0         </td><td>0         </td><td>0         </td><td>0         </td><td>0.000000  </td><td>0.000000  </td><td>0.00000   </td></tr>\n",
       "\t<tr><td>C1        </td><td>0         </td><td>0         </td><td>0.0000000 </td><td>0         </td><td>0         </td><td>0         </td><td>0         </td><td>0.00000000</td><td>0         </td><td>...       </td><td>0.00000000</td><td>0.00000000</td><td>0.0000000 </td><td>0         </td><td>0         </td><td>0         </td><td>0         </td><td>0.000000  </td><td>0.000000  </td><td>0.00000   </td></tr>\n",
       "</tbody>\n",
       "</table>\n"
      ],
      "text/latex": [
       "\\begin{tabular}{r|llllllllllllllllllllllllllllllllllllllllllllllllllllllllllllllllllllllllllllllllllllllllllllllllllllllllllllllllllllllllllllllllllllllllllllllllllllllllllllllllllllllllllllllllllllllllllllllllllllllllllllllllllllllllllllllllllllllllllllllllllllllllllllllllllllllllllllllllllllllllllllllllllllllllllllllllllllllllllllllllllllllllllllllllllllllllllllllllllllllllll}\n",
       " Class\\_Label & abc & abl & across & act & action & actual & affect & ago & ahead & ... & world & year & yearold & yesterday & yet & last.week & last.year & new.south & per.cent & south.wale\\\\\n",
       "\\hline\n",
       "\t C1         & 0          & 0          & 0.0000000  & 0          & 0          & 0          & 0          & 0.00000000 & 0          & ...        & 0.00000000 & 0.04338176 & 0.1301929  & 0          & 0          & 0          & 0          & 0.000000   & 3.410177   & 0.00000   \\\\\n",
       "\t C1         & 0          & 0          & 0.0000000  & 0          & 0          & 0          & 0          & 0.00000000 & 0          & ...        & 0.00000000 & 0.04609312 & 0.0000000  & 0          & 0          & 0          & 0          & 1.759354   & 0.000000   & 1.76478   \\\\\n",
       "\t C1         & 0          & 0          & 0.7546878  & 0          & 0          & 0          & 0          & 0.00000000 & 0          & ...        & 0.00000000 & 0.00000000 & 0.0000000  & 0          & 0          & 0          & 0          & 0.000000   & 0.000000   & 0.00000   \\\\\n",
       "\t C1         & 0          & 0          & 0.0000000  & 0          & 0          & 0          & 0          & 0.04745019 & 0          & ...        & 0.03445453 & 0.03641925 & 0.0000000  & 0          & 0          & 0          & 0          & 0.000000   & 0.000000   & 0.00000   \\\\\n",
       "\t C1         & 0          & 0          & 0.0000000  & 0          & 0          & 0          & 0          & 0.00000000 & 0          & ...        & 0.00000000 & 0.00000000 & 0.1967359  & 0          & 0          & 0          & 0          & 0.000000   & 0.000000   & 0.00000   \\\\\n",
       "\t C1         & 0          & 0          & 0.0000000  & 0          & 0          & 0          & 0          & 0.00000000 & 0          & ...        & 0.00000000 & 0.00000000 & 0.0000000  & 0          & 0          & 0          & 0          & 0.000000   & 0.000000   & 0.00000   \\\\\n",
       "\\end{tabular}\n"
      ],
      "text/markdown": [
       "\n",
       "Class_Label | abc | abl | across | act | action | actual | affect | ago | ahead | ... | world | year | yearold | yesterday | yet | last.week | last.year | new.south | per.cent | south.wale | \n",
       "|---|---|---|---|---|---|\n",
       "| C1         | 0          | 0          | 0.0000000  | 0          | 0          | 0          | 0          | 0.00000000 | 0          | ...        | 0.00000000 | 0.04338176 | 0.1301929  | 0          | 0          | 0          | 0          | 0.000000   | 3.410177   | 0.00000    | \n",
       "| C1         | 0          | 0          | 0.0000000  | 0          | 0          | 0          | 0          | 0.00000000 | 0          | ...        | 0.00000000 | 0.04609312 | 0.0000000  | 0          | 0          | 0          | 0          | 1.759354   | 0.000000   | 1.76478    | \n",
       "| C1         | 0          | 0          | 0.7546878  | 0          | 0          | 0          | 0          | 0.00000000 | 0          | ...        | 0.00000000 | 0.00000000 | 0.0000000  | 0          | 0          | 0          | 0          | 0.000000   | 0.000000   | 0.00000    | \n",
       "| C1         | 0          | 0          | 0.0000000  | 0          | 0          | 0          | 0          | 0.04745019 | 0          | ...        | 0.03445453 | 0.03641925 | 0.0000000  | 0          | 0          | 0          | 0          | 0.000000   | 0.000000   | 0.00000    | \n",
       "| C1         | 0          | 0          | 0.0000000  | 0          | 0          | 0          | 0          | 0.00000000 | 0          | ...        | 0.00000000 | 0.00000000 | 0.1967359  | 0          | 0          | 0          | 0          | 0.000000   | 0.000000   | 0.00000    | \n",
       "| C1         | 0          | 0          | 0.0000000  | 0          | 0          | 0          | 0          | 0.00000000 | 0          | ...        | 0.00000000 | 0.00000000 | 0.0000000  | 0          | 0          | 0          | 0          | 0.000000   | 0.000000   | 0.00000    | \n",
       "\n",
       "\n"
      ],
      "text/plain": [
       "  Class_Label abc abl across    act action actual affect ago        ahead ...\n",
       "1 C1          0   0   0.0000000 0   0      0      0      0.00000000 0     ...\n",
       "2 C1          0   0   0.0000000 0   0      0      0      0.00000000 0     ...\n",
       "3 C1          0   0   0.7546878 0   0      0      0      0.00000000 0     ...\n",
       "4 C1          0   0   0.0000000 0   0      0      0      0.04745019 0     ...\n",
       "5 C1          0   0   0.0000000 0   0      0      0      0.00000000 0     ...\n",
       "6 C1          0   0   0.0000000 0   0      0      0      0.00000000 0     ...\n",
       "  world      year       yearold   yesterday yet last.week last.year new.south\n",
       "1 0.00000000 0.04338176 0.1301929 0         0   0         0         0.000000 \n",
       "2 0.00000000 0.04609312 0.0000000 0         0   0         0         1.759354 \n",
       "3 0.00000000 0.00000000 0.0000000 0         0   0         0         0.000000 \n",
       "4 0.03445453 0.03641925 0.0000000 0         0   0         0         0.000000 \n",
       "5 0.00000000 0.00000000 0.1967359 0         0   0         0         0.000000 \n",
       "6 0.00000000 0.00000000 0.0000000 0         0   0         0         0.000000 \n",
       "  per.cent south.wale\n",
       "1 3.410177 0.00000   \n",
       "2 0.000000 1.76478   \n",
       "3 0.000000 0.00000   \n",
       "4 0.000000 0.00000   \n",
       "5 0.000000 0.00000   \n",
       "6 0.000000 0.00000   "
      ]
     },
     "metadata": {},
     "output_type": "display_data"
    }
   ],
   "source": [
    "docs_train = merge(docs_train_unigrams, docs_train_bigrams, by=c(\"Doc_id\",\"Class_Label\"))\n",
    "docs_train = subset(docs_train, select = -c(Doc_id))\n",
    "docs_train = docs_train %>% group_by(Class_Label) %>% sample_n(size = 500)\n",
    "head(docs_train)"
   ]
  },
  {
   "cell_type": "code",
   "execution_count": 453,
   "metadata": {},
   "outputs": [],
   "source": [
    "docs_train[, !names(docs_train) %in% c(\"Class_Label\")] <- scale(docs_train[, !names(docs_train) %in% c(\"Class_Label\")])"
   ]
  },
  {
   "cell_type": "code",
   "execution_count": 454,
   "metadata": {},
   "outputs": [],
   "source": [
    "sample_ind = sample(nrow(docs_train), 0.8*nrow(docs_train), replace = FALSE)\n",
    "sample_train = docs_train[sample_ind,]\n",
    "sample_test = docs_train[-sample_ind,]"
   ]
  },
  {
   "cell_type": "code",
   "execution_count": 473,
   "metadata": {},
   "outputs": [
    {
     "data": {
      "text/html": [
       "<ol class=list-inline>\n",
       "\t<li>9200</li>\n",
       "\t<li>363</li>\n",
       "</ol>\n"
      ],
      "text/latex": [
       "\\begin{enumerate*}\n",
       "\\item 9200\n",
       "\\item 363\n",
       "\\end{enumerate*}\n"
      ],
      "text/markdown": [
       "1. 9200\n",
       "2. 363\n",
       "\n",
       "\n"
      ],
      "text/plain": [
       "[1] 9200  363"
      ]
     },
     "metadata": {},
     "output_type": "display_data"
    },
    {
     "data": {
      "text/html": [
       "<ol class=list-inline>\n",
       "\t<li>2300</li>\n",
       "\t<li>363</li>\n",
       "</ol>\n"
      ],
      "text/latex": [
       "\\begin{enumerate*}\n",
       "\\item 2300\n",
       "\\item 363\n",
       "\\end{enumerate*}\n"
      ],
      "text/markdown": [
       "1. 2300\n",
       "2. 363\n",
       "\n",
       "\n"
      ],
      "text/plain": [
       "[1] 2300  363"
      ]
     },
     "metadata": {},
     "output_type": "display_data"
    },
    {
     "data": {
      "text/html": [
       "<ol class=list-inline>\n",
       "\t<li>11500</li>\n",
       "\t<li>362</li>\n",
       "</ol>\n"
      ],
      "text/latex": [
       "\\begin{enumerate*}\n",
       "\\item 11500\n",
       "\\item 362\n",
       "\\end{enumerate*}\n"
      ],
      "text/markdown": [
       "1. 11500\n",
       "2. 362\n",
       "\n",
       "\n"
      ],
      "text/plain": [
       "[1] 11500   362"
      ]
     },
     "metadata": {},
     "output_type": "display_data"
    }
   ],
   "source": [
    "dim(sample_train)\n",
    "dim(sample_test)\n",
    "dim(docs_train)"
   ]
  },
  {
   "cell_type": "code",
   "execution_count": 456,
   "metadata": {},
   "outputs": [],
   "source": [
    "sample_train[[\"Class_Label\"]] = factor(sample_train[[\"Class_Label\"]])"
   ]
  },
  {
   "cell_type": "code",
   "execution_count": 457,
   "metadata": {},
   "outputs": [],
   "source": [
    "svm.fit <- svm(Class_Label ~ . , sample_train, kernel = \"radial\", cost = 2)"
   ]
  },
  {
   "cell_type": "code",
   "execution_count": 458,
   "metadata": {},
   "outputs": [],
   "source": [
    "sample_train$predicted_label_radial <- predict(svm.fit, sample_train)"
   ]
  },
  {
   "cell_type": "code",
   "execution_count": 459,
   "metadata": {},
   "outputs": [],
   "source": [
    "sample_test$predicted_label_radial <- predict(svm.fit, sample_test)"
   ]
  },
  {
   "cell_type": "code",
   "execution_count": 460,
   "metadata": {},
   "outputs": [
    {
     "data": {
      "text/html": [
       "0.947934782608696"
      ],
      "text/latex": [
       "0.947934782608696"
      ],
      "text/markdown": [
       "0.947934782608696"
      ],
      "text/plain": [
       "[1] 0.9479348"
      ]
     },
     "metadata": {},
     "output_type": "display_data"
    }
   ],
   "source": [
    "# Train Accuracy\n",
    "mean(sample_train$Class_Label == sample_train$predicted_label_radial)"
   ]
  },
  {
   "cell_type": "code",
   "execution_count": 461,
   "metadata": {},
   "outputs": [
    {
     "data": {
      "text/html": [
       "0.558260869565217"
      ],
      "text/latex": [
       "0.558260869565217"
      ],
      "text/markdown": [
       "0.558260869565217"
      ],
      "text/plain": [
       "[1] 0.5582609"
      ]
     },
     "metadata": {},
     "output_type": "display_data"
    }
   ],
   "source": [
    "# Test Accuracy\n",
    "mean(sample_test$Class_Label == sample_test$predicted_label_radial)"
   ]
  },
  {
   "cell_type": "code",
   "execution_count": 462,
   "metadata": {},
   "outputs": [],
   "source": [
    "# Confusion Matrix for train data\n",
    "conf_train = table(sample_train$Class_Label, sample_train$predicted_label_radial)"
   ]
  },
  {
   "cell_type": "code",
   "execution_count": 463,
   "metadata": {},
   "outputs": [],
   "source": [
    "# Confusion Matrix for test data\n",
    "conf_test = table(sample_test$Class_Label, sample_test$predicted_label_radial)"
   ]
  },
  {
   "cell_type": "code",
   "execution_count": 464,
   "metadata": {},
   "outputs": [
    {
     "data": {
      "text/html": [
       "55.83"
      ],
      "text/latex": [
       "55.83"
      ],
      "text/markdown": [
       "55.83"
      ],
      "text/plain": [
       "[1] 55.83"
      ]
     },
     "metadata": {},
     "output_type": "display_data"
    }
   ],
   "source": [
    "N <- nrow(sample_test)\n",
    "diag = diag(conf_test)\n",
    "Accuracy = sum(diag)/N\n",
    "round(Accuracy*100, 2) # accuracy"
   ]
  },
  {
   "cell_type": "code",
   "execution_count": 465,
   "metadata": {},
   "outputs": [
    {
     "data": {
      "text/html": [
       "0.581304347826087"
      ],
      "text/latex": [
       "0.581304347826087"
      ],
      "text/markdown": [
       "0.581304347826087"
      ],
      "text/plain": [
       "[1] 0.5813043"
      ]
     },
     "metadata": {},
     "output_type": "display_data"
    },
    {
     "data": {
      "text/html": [
       "0.561304347826087"
      ],
      "text/latex": [
       "0.561304347826087"
      ],
      "text/markdown": [
       "0.561304347826087"
      ],
      "text/plain": [
       "[1] 0.5613043"
      ]
     },
     "metadata": {},
     "output_type": "display_data"
    }
   ],
   "source": [
    "rowsums = apply(conf_test, 1, sum)\n",
    "colsums = apply(conf_test, 2, sum)\n",
    "Precision = diag/ colsums\n",
    "Precision = round(Precision, 2)\n",
    "\n",
    "Recall = diag / rowsums\n",
    "Recall = round(Recall, 2)\n",
    "\n",
    "mean(Precision)\n",
    "mean(Recall)"
   ]
  },
  {
   "cell_type": "code",
   "execution_count": 466,
   "metadata": {},
   "outputs": [
    {
     "data": {
      "text/html": [
       "0.567152760737595"
      ],
      "text/latex": [
       "0.567152760737595"
      ],
      "text/markdown": [
       "0.567152760737595"
      ],
      "text/plain": [
       "[1] 0.5671528"
      ]
     },
     "metadata": {},
     "output_type": "display_data"
    }
   ],
   "source": [
    "f.score = (2*Precision*Recall)/(Precision + Recall)\n",
    "mean(f.score)"
   ]
  },
  {
   "cell_type": "code",
   "execution_count": 467,
   "metadata": {},
   "outputs": [],
   "source": [
    "docs_test_unigrams = read.csv('docs_test_unigrams.csv')\n",
    "docs_test_bigrams = read.csv('docs_test_bigrams.csv')"
   ]
  },
  {
   "cell_type": "code",
   "execution_count": 468,
   "metadata": {},
   "outputs": [],
   "source": [
    "docs_test = merge(docs_test_unigrams, docs_test_bigrams, by=c(\"Doc_id\",\"Class_Label\"))\n",
    "docs_test = subset(docs_test, select = -c(Doc_id,Class_Label))"
   ]
  },
  {
   "cell_type": "code",
   "execution_count": 469,
   "metadata": {},
   "outputs": [],
   "source": [
    "docs_test <- data.frame(scale(docs_test))"
   ]
  },
  {
   "cell_type": "code",
   "execution_count": 470,
   "metadata": {},
   "outputs": [],
   "source": [
    "docs_test$predicted_label_radial <- predict(svm.fit, docs_test)"
   ]
  },
  {
   "cell_type": "code",
   "execution_count": 471,
   "metadata": {},
   "outputs": [
    {
     "data": {
      "text/html": [
       "<table>\n",
       "<thead><tr><th scope=col>abc</th><th scope=col>abl</th><th scope=col>across</th><th scope=col>act</th><th scope=col>action</th><th scope=col>actual</th><th scope=col>affect</th><th scope=col>ago</th><th scope=col>ahead</th><th scope=col>allow</th><th scope=col>...</th><th scope=col>year</th><th scope=col>yearold</th><th scope=col>yesterday</th><th scope=col>yet</th><th scope=col>last.week</th><th scope=col>last.year</th><th scope=col>new.south</th><th scope=col>per.cent</th><th scope=col>south.wale</th><th scope=col>predicted_label_radial</th></tr></thead>\n",
       "<tbody>\n",
       "\t<tr><td>-0.1348845</td><td>-0.2111811</td><td>-0.1920004</td><td>-0.1657907</td><td>-0.1519612</td><td>-0.2055182</td><td>-0.1683103</td><td>-0.2008102</td><td>-0.1510989</td><td>-0.1849399</td><td>...       </td><td> 2.8477050</td><td>-0.2752462</td><td>-0.2392608</td><td>-0.1787248</td><td>-0.2244964</td><td> 3.6981929</td><td>-0.299216 </td><td>-0.3092593</td><td>-0.2990043</td><td>C1        </td></tr>\n",
       "\t<tr><td>-0.1348845</td><td>-0.2111811</td><td>-0.1920004</td><td>-0.1657907</td><td>-0.1519612</td><td>-0.2055182</td><td>-0.1683103</td><td>-0.2008102</td><td>-0.1510989</td><td> 4.2932118</td><td>...       </td><td>-0.4801061</td><td>-0.2752462</td><td>-0.2392608</td><td>-0.1787248</td><td>-0.2244964</td><td>-0.2949162</td><td>-0.299216 </td><td>-0.3092593</td><td>-0.2990043</td><td>C13       </td></tr>\n",
       "\t<tr><td>-0.1348845</td><td>-0.2111811</td><td>-0.1920004</td><td>-0.1657907</td><td>-0.1519612</td><td>-0.2055182</td><td>-0.1683103</td><td>-0.2008102</td><td>-0.1510989</td><td>-0.1849399</td><td>...       </td><td> 0.6795857</td><td> 1.6911909</td><td>-0.2392608</td><td>-0.1787248</td><td>-0.2244964</td><td>-0.2949162</td><td>-0.299216 </td><td>-0.3092593</td><td>-0.2990043</td><td>C1        </td></tr>\n",
       "\t<tr><td>-0.1348845</td><td>-0.2111811</td><td>-0.1920004</td><td>-0.1657907</td><td>-0.1519612</td><td>-0.2055182</td><td>-0.1683103</td><td>-0.2008102</td><td>-0.1510989</td><td>-0.1849399</td><td>...       </td><td>-0.4801061</td><td>-0.2752462</td><td>-0.2392608</td><td>-0.1787248</td><td>-0.2244964</td><td>-0.2949162</td><td>-0.299216 </td><td>-0.3092593</td><td>-0.2990043</td><td>C4        </td></tr>\n",
       "\t<tr><td>-0.1348845</td><td> 2.3633394</td><td>-0.1920004</td><td>-0.1657907</td><td>-0.1519612</td><td>-0.2055182</td><td>-0.1683103</td><td>-0.2008102</td><td>-0.1510989</td><td>-0.1849399</td><td>...       </td><td> 0.8171762</td><td>-0.2752462</td><td>-0.2392608</td><td>-0.1787248</td><td>-0.2244964</td><td>-0.2949162</td><td> 3.420736 </td><td>-0.3092593</td><td> 3.4620819</td><td>C2        </td></tr>\n",
       "\t<tr><td>-0.1348845</td><td>-0.2111811</td><td> 0.7892066</td><td>-0.1657907</td><td>-0.1519612</td><td>-0.2055182</td><td>-0.1683103</td><td>-0.2008102</td><td>-0.1510989</td><td>-0.1849399</td><td>...       </td><td> 1.2437600</td><td>-0.2752462</td><td>-0.2392608</td><td>-0.1787248</td><td>-0.2244964</td><td> 3.6981929</td><td>-0.299216 </td><td>-0.3092593</td><td>-0.2990043</td><td>C2        </td></tr>\n",
       "</tbody>\n",
       "</table>\n"
      ],
      "text/latex": [
       "\\begin{tabular}{r|llllllllllllllllllllllllllllllllllllllllllllllllllllllllllllllllllllllllllllllllllllllllllllllllllllllllllllllllllllllllllllllllllllllllllllllllllllllllllllllllllllllllllllllllllllllllllllllllllllllllllllllllllllllllllllllllllllllllllllllllllllllllllllllllllllllllllllllllllllllllllllllllllllllllllllllllllllllllllllllllllllllllllllllllllllllllllllllllllllllllll}\n",
       " abc & abl & across & act & action & actual & affect & ago & ahead & allow & ... & year & yearold & yesterday & yet & last.week & last.year & new.south & per.cent & south.wale & predicted\\_label\\_radial\\\\\n",
       "\\hline\n",
       "\t -0.1348845 & -0.2111811 & -0.1920004 & -0.1657907 & -0.1519612 & -0.2055182 & -0.1683103 & -0.2008102 & -0.1510989 & -0.1849399 & ...        &  2.8477050 & -0.2752462 & -0.2392608 & -0.1787248 & -0.2244964 &  3.6981929 & -0.299216  & -0.3092593 & -0.2990043 & C1        \\\\\n",
       "\t -0.1348845 & -0.2111811 & -0.1920004 & -0.1657907 & -0.1519612 & -0.2055182 & -0.1683103 & -0.2008102 & -0.1510989 &  4.2932118 & ...        & -0.4801061 & -0.2752462 & -0.2392608 & -0.1787248 & -0.2244964 & -0.2949162 & -0.299216  & -0.3092593 & -0.2990043 & C13       \\\\\n",
       "\t -0.1348845 & -0.2111811 & -0.1920004 & -0.1657907 & -0.1519612 & -0.2055182 & -0.1683103 & -0.2008102 & -0.1510989 & -0.1849399 & ...        &  0.6795857 &  1.6911909 & -0.2392608 & -0.1787248 & -0.2244964 & -0.2949162 & -0.299216  & -0.3092593 & -0.2990043 & C1        \\\\\n",
       "\t -0.1348845 & -0.2111811 & -0.1920004 & -0.1657907 & -0.1519612 & -0.2055182 & -0.1683103 & -0.2008102 & -0.1510989 & -0.1849399 & ...        & -0.4801061 & -0.2752462 & -0.2392608 & -0.1787248 & -0.2244964 & -0.2949162 & -0.299216  & -0.3092593 & -0.2990043 & C4        \\\\\n",
       "\t -0.1348845 &  2.3633394 & -0.1920004 & -0.1657907 & -0.1519612 & -0.2055182 & -0.1683103 & -0.2008102 & -0.1510989 & -0.1849399 & ...        &  0.8171762 & -0.2752462 & -0.2392608 & -0.1787248 & -0.2244964 & -0.2949162 &  3.420736  & -0.3092593 &  3.4620819 & C2        \\\\\n",
       "\t -0.1348845 & -0.2111811 &  0.7892066 & -0.1657907 & -0.1519612 & -0.2055182 & -0.1683103 & -0.2008102 & -0.1510989 & -0.1849399 & ...        &  1.2437600 & -0.2752462 & -0.2392608 & -0.1787248 & -0.2244964 &  3.6981929 & -0.299216  & -0.3092593 & -0.2990043 & C2        \\\\\n",
       "\\end{tabular}\n"
      ],
      "text/markdown": [
       "\n",
       "abc | abl | across | act | action | actual | affect | ago | ahead | allow | ... | year | yearold | yesterday | yet | last.week | last.year | new.south | per.cent | south.wale | predicted_label_radial | \n",
       "|---|---|---|---|---|---|\n",
       "| -0.1348845 | -0.2111811 | -0.1920004 | -0.1657907 | -0.1519612 | -0.2055182 | -0.1683103 | -0.2008102 | -0.1510989 | -0.1849399 | ...        |  2.8477050 | -0.2752462 | -0.2392608 | -0.1787248 | -0.2244964 |  3.6981929 | -0.299216  | -0.3092593 | -0.2990043 | C1         | \n",
       "| -0.1348845 | -0.2111811 | -0.1920004 | -0.1657907 | -0.1519612 | -0.2055182 | -0.1683103 | -0.2008102 | -0.1510989 |  4.2932118 | ...        | -0.4801061 | -0.2752462 | -0.2392608 | -0.1787248 | -0.2244964 | -0.2949162 | -0.299216  | -0.3092593 | -0.2990043 | C13        | \n",
       "| -0.1348845 | -0.2111811 | -0.1920004 | -0.1657907 | -0.1519612 | -0.2055182 | -0.1683103 | -0.2008102 | -0.1510989 | -0.1849399 | ...        |  0.6795857 |  1.6911909 | -0.2392608 | -0.1787248 | -0.2244964 | -0.2949162 | -0.299216  | -0.3092593 | -0.2990043 | C1         | \n",
       "| -0.1348845 | -0.2111811 | -0.1920004 | -0.1657907 | -0.1519612 | -0.2055182 | -0.1683103 | -0.2008102 | -0.1510989 | -0.1849399 | ...        | -0.4801061 | -0.2752462 | -0.2392608 | -0.1787248 | -0.2244964 | -0.2949162 | -0.299216  | -0.3092593 | -0.2990043 | C4         | \n",
       "| -0.1348845 |  2.3633394 | -0.1920004 | -0.1657907 | -0.1519612 | -0.2055182 | -0.1683103 | -0.2008102 | -0.1510989 | -0.1849399 | ...        |  0.8171762 | -0.2752462 | -0.2392608 | -0.1787248 | -0.2244964 | -0.2949162 |  3.420736  | -0.3092593 |  3.4620819 | C2         | \n",
       "| -0.1348845 | -0.2111811 |  0.7892066 | -0.1657907 | -0.1519612 | -0.2055182 | -0.1683103 | -0.2008102 | -0.1510989 | -0.1849399 | ...        |  1.2437600 | -0.2752462 | -0.2392608 | -0.1787248 | -0.2244964 |  3.6981929 | -0.299216  | -0.3092593 | -0.2990043 | C2         | \n",
       "\n",
       "\n"
      ],
      "text/plain": [
       "  abc        abl        across     act        action     actual     affect    \n",
       "1 -0.1348845 -0.2111811 -0.1920004 -0.1657907 -0.1519612 -0.2055182 -0.1683103\n",
       "2 -0.1348845 -0.2111811 -0.1920004 -0.1657907 -0.1519612 -0.2055182 -0.1683103\n",
       "3 -0.1348845 -0.2111811 -0.1920004 -0.1657907 -0.1519612 -0.2055182 -0.1683103\n",
       "4 -0.1348845 -0.2111811 -0.1920004 -0.1657907 -0.1519612 -0.2055182 -0.1683103\n",
       "5 -0.1348845  2.3633394 -0.1920004 -0.1657907 -0.1519612 -0.2055182 -0.1683103\n",
       "6 -0.1348845 -0.2111811  0.7892066 -0.1657907 -0.1519612 -0.2055182 -0.1683103\n",
       "  ago        ahead      allow      ... year       yearold    yesterday \n",
       "1 -0.2008102 -0.1510989 -0.1849399 ...  2.8477050 -0.2752462 -0.2392608\n",
       "2 -0.2008102 -0.1510989  4.2932118 ... -0.4801061 -0.2752462 -0.2392608\n",
       "3 -0.2008102 -0.1510989 -0.1849399 ...  0.6795857  1.6911909 -0.2392608\n",
       "4 -0.2008102 -0.1510989 -0.1849399 ... -0.4801061 -0.2752462 -0.2392608\n",
       "5 -0.2008102 -0.1510989 -0.1849399 ...  0.8171762 -0.2752462 -0.2392608\n",
       "6 -0.2008102 -0.1510989 -0.1849399 ...  1.2437600 -0.2752462 -0.2392608\n",
       "  yet        last.week  last.year  new.south per.cent   south.wale\n",
       "1 -0.1787248 -0.2244964  3.6981929 -0.299216 -0.3092593 -0.2990043\n",
       "2 -0.1787248 -0.2244964 -0.2949162 -0.299216 -0.3092593 -0.2990043\n",
       "3 -0.1787248 -0.2244964 -0.2949162 -0.299216 -0.3092593 -0.2990043\n",
       "4 -0.1787248 -0.2244964 -0.2949162 -0.299216 -0.3092593 -0.2990043\n",
       "5 -0.1787248 -0.2244964 -0.2949162  3.420736 -0.3092593  3.4620819\n",
       "6 -0.1787248 -0.2244964  3.6981929 -0.299216 -0.3092593 -0.2990043\n",
       "  predicted_label_radial\n",
       "1 C1                    \n",
       "2 C13                   \n",
       "3 C1                    \n",
       "4 C4                    \n",
       "5 C2                    \n",
       "6 C2                    "
      ]
     },
     "metadata": {},
     "output_type": "display_data"
    }
   ],
   "source": [
    "head(docs_test)"
   ]
  },
  {
   "cell_type": "code",
   "execution_count": 472,
   "metadata": {},
   "outputs": [
    {
     "data": {
      "text/html": [
       "<ol class=list-inline>\n",
       "\t<li>C1</li>\n",
       "\t<li>C13</li>\n",
       "\t<li>C4</li>\n",
       "\t<li>C2</li>\n",
       "\t<li>C3</li>\n",
       "\t<li>C9</li>\n",
       "\t<li>C22</li>\n",
       "\t<li>C14</li>\n",
       "\t<li>C18</li>\n",
       "\t<li>C17</li>\n",
       "\t<li>C8</li>\n",
       "\t<li>C16</li>\n",
       "\t<li>C23</li>\n",
       "\t<li>C7</li>\n",
       "\t<li>C15</li>\n",
       "\t<li>C20</li>\n",
       "\t<li>C6</li>\n",
       "\t<li>C21</li>\n",
       "\t<li>C10</li>\n",
       "\t<li>C19</li>\n",
       "\t<li>C11</li>\n",
       "\t<li>C12</li>\n",
       "\t<li>C5</li>\n",
       "</ol>\n"
      ],
      "text/latex": [
       "\\begin{enumerate*}\n",
       "\\item C1\n",
       "\\item C13\n",
       "\\item C4\n",
       "\\item C2\n",
       "\\item C3\n",
       "\\item C9\n",
       "\\item C22\n",
       "\\item C14\n",
       "\\item C18\n",
       "\\item C17\n",
       "\\item C8\n",
       "\\item C16\n",
       "\\item C23\n",
       "\\item C7\n",
       "\\item C15\n",
       "\\item C20\n",
       "\\item C6\n",
       "\\item C21\n",
       "\\item C10\n",
       "\\item C19\n",
       "\\item C11\n",
       "\\item C12\n",
       "\\item C5\n",
       "\\end{enumerate*}\n"
      ],
      "text/markdown": [
       "1. C1\n",
       "2. C13\n",
       "3. C4\n",
       "4. C2\n",
       "5. C3\n",
       "6. C9\n",
       "7. C22\n",
       "8. C14\n",
       "9. C18\n",
       "10. C17\n",
       "11. C8\n",
       "12. C16\n",
       "13. C23\n",
       "14. C7\n",
       "15. C15\n",
       "16. C20\n",
       "17. C6\n",
       "18. C21\n",
       "19. C10\n",
       "20. C19\n",
       "21. C11\n",
       "22. C12\n",
       "23. C5\n",
       "\n",
       "\n"
      ],
      "text/plain": [
       " [1] C1  C13 C4  C2  C3  C9  C22 C14 C18 C17 C8  C16 C23 C7  C15 C20 C6  C21 C10\n",
       "[20] C19 C11 C12 C5 \n",
       "23 Levels: C1 C10 C11 C12 C13 C14 C15 C16 C17 C18 C19 C2 C20 C21 C22 C23 ... C9"
      ]
     },
     "metadata": {},
     "output_type": "display_data"
    }
   ],
   "source": [
    "unique(docs_test$predicted_label_radial)"
   ]
  }
 ],
 "metadata": {
  "kernelspec": {
   "display_name": "R",
   "language": "R",
   "name": "ir"
  },
  "language_info": {
   "codemirror_mode": "r",
   "file_extension": ".r",
   "mimetype": "text/x-r-source",
   "name": "R",
   "pygments_lexer": "r",
   "version": "3.4.3"
  }
 },
 "nbformat": 4,
 "nbformat_minor": 2
}
